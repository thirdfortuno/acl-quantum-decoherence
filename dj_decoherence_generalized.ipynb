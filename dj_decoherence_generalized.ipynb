{
 "cells": [
  {
   "cell_type": "markdown",
   "metadata": {},
   "source": [
    "Taken from the Qiskit notebook for Deutsch-Jozsa\n",
    "\n",
    "# Deutsch-Jozsa algorithm (generalized)"
   ]
  },
  {
   "cell_type": "code",
   "execution_count": 1,
   "metadata": {},
   "outputs": [],
   "source": [
    "# initialization\n",
    "import numpy as np\n",
    "import pandas as pd\n",
    "from datetime import datetime\n",
    "from depolar import depolarizing_channel\n",
    "from tqdm.notebook import tqdm\n",
    "\n",
    "# importing Qiskit\n",
    "from qiskit import IBMQ, BasicAer\n",
    "from qiskit.providers.ibmq import least_busy\n",
    "from qiskit import QuantumCircuit, execute\n",
    "\n",
    "# import basic plot tools\n",
    "from qiskit.visualization import plot_histogram\n",
    "from matplotlib import pyplot as plt"
   ]
  },
  {
   "cell_type": "code",
   "execution_count": 2,
   "metadata": {},
   "outputs": [],
   "source": [
    "def dj_oracle(case, n, return_bstr=False):\n",
    "    # We need to make a QuantumCircuit object to return\n",
    "    # This circuit has n+1 qubits: the size of the input,\n",
    "    # plus one output qubit\n",
    "    oracle_qc = QuantumCircuit(n+1)\n",
    "    \n",
    "    # First, let's deal with the case in which oracle is balanced\n",
    "    if case == \"balanced\":\n",
    "        # First generate a random number that tells us which CNOTs to\n",
    "        # wrap in X-gates:\n",
    "        b = np.random.randint(1,2**n)\n",
    "        # Next, format 'b' as a binary string of length 'n', padded with zeros:\n",
    "        b_str = format(b, '0'+str(n)+'b')\n",
    "        # Next, we place the first X-gates. Each digit in our binary string \n",
    "        # corresponds to a qubit, if the digit is 0, we do nothing, if it's 1\n",
    "        # we apply an X-gate to that qubit:\n",
    "        for qubit in range(len(b_str)):\n",
    "            if b_str[qubit] == '1':\n",
    "                oracle_qc.x(qubit)\n",
    "        # Do the controlled-NOT gates for each qubit, using the output qubit \n",
    "        # as the target:\n",
    "        for qubit in range(n):\n",
    "            oracle_qc.cx(qubit, n)\n",
    "        # Next, place the final X-gates\n",
    "        for qubit in range(len(b_str)):\n",
    "            if b_str[qubit] == '1':\n",
    "                oracle_qc.x(qubit)\n",
    "\n",
    "    # Case in which oracle is constant\n",
    "    if case == \"constant\":\n",
    "        # First decide what the fixed output of the oracle will be\n",
    "        # (either always 0 or always 1)\n",
    "        output = np.random.randint(2)\n",
    "        if output == 1:\n",
    "            oracle_qc.x(n)\n",
    "    \n",
    "    oracle_gate = oracle_qc.to_gate()\n",
    "    oracle_gate.name = \"Oracle\" # To show when we display the circuit\n",
    "    if (return_bstr): return oracle_gate, b_str\n",
    "    else: return oracle_gate\n",
    "\n",
    "def dj_algorithm(oracle, n,decoherence_percent):\n",
    "    dj_circuit = QuantumCircuit(n+1, n)\n",
    "    # Set up the output qubit:\n",
    "    dj_circuit.x(n)\n",
    "    depolarizing_channel(dj_circuit,n,decoherence_percent)\n",
    "    dj_circuit.h(n)\n",
    "    depolarizing_channel(dj_circuit,n,decoherence_percent)\n",
    "    # And set up the input register:\n",
    "    for qubit in range(n):\n",
    "        dj_circuit.h(qubit)\n",
    "        depolarizing_channel(dj_circuit,qubit,decoherence_percent)\n",
    "    # Let's append the oracle gate to our circuit:\n",
    "    dj_circuit.append(oracle, range(n+1))\n",
    "    # Finally, perform the H-gates again and measure:\n",
    "    for qubit in range(n):\n",
    "        dj_circuit.h(qubit)\n",
    "        depolarizing_channel(dj_circuit,n,decoherence_percent)\n",
    "    for i in range(n):\n",
    "        dj_circuit.measure(i, i)\n",
    "    \n",
    "    return dj_circuit\n",
    "\n",
    "def dj_mult(spread, n, trials):\n",
    "    for i in range(trials):\n",
    "        output = str(i)\n",
    "        oracle_gate, oracle_func = dj_oracle(spread, n)\n",
    "        output = output + \": \" + str(oracle_func) + \" |\"\n",
    "        dj_circuit = dj_algorithm(oracle_gate, n)\n",
    "        results = execute(dj_circuit, backend=BasicAer.get_backend('qasm_simulator'), shots=1024).result()\n",
    "        answer = results.get_counts()\n",
    "        output = output + str(answer) + \"\\n\"\n",
    "        f.write(output)"
   ]
  },
  {
   "cell_type": "markdown",
   "metadata": {},
   "source": [
    "The variable `decoherence_percent` is the chance that a depolarizing channel will appear after an operation, with bounds 0 <= 1. \n",
    "\n",
    "The variable `n` is how big the function to be checked is.\n",
    "\n",
    "The variable `spread` is what kind of function the oracle will be. The algorithm randomly creates the oracle."
   ]
  },
  {
   "cell_type": "markdown",
   "metadata": {},
   "source": [
    "### Single Circuit"
   ]
  },
  {
   "cell_type": "code",
   "execution_count": 3,
   "metadata": {},
   "outputs": [
    {
     "data": {
      "image/png": "[encoded data removed]",
      "text/plain": [
       "<Figure size 682.577x385.28 with 1 Axes>"
      ]
     },
     "execution_count": 3,
     "metadata": {},
     "output_type": "execute_result"
    }
   ],
   "source": [
    "decoherence_percent = 0.1\n",
    "n = 4\n",
    "spread = 'balanced' #'balanced' or 'constant'\n",
    "oracle_gate = dj_oracle(spread, n)\n",
    "dj_circuit = dj_algorithm(oracle_gate, n, decoherence_percent)\n",
    "dj_circuit.draw(output=\"mpl\")"
   ]
  },
  {
   "cell_type": "code",
   "execution_count": 4,
   "metadata": {},
   "outputs": [
    {
     "data": {
      "image/png": "[encoded data removed]",
      "text/plain": [
       "<Figure size 504x360 with 1 Axes>"
      ]
     },
     "execution_count": 4,
     "metadata": {},
     "output_type": "execute_result"
    }
   ],
   "source": [
    "results = execute(dj_circuit, backend=BasicAer.get_backend('qasm_simulator'), shots=1024).result()\n",
    "answer = results.get_counts()\n",
    "plot_histogram(answer)"
   ]
  },
  {
   "cell_type": "markdown",
   "metadata": {},
   "source": [
    "To read this result, recall the definition by Cleve et al:\n",
    "\n",
    "> _Note that such a function is constant if a = 00...0 and balanced otherwise._\n",
    "\n",
    "Thus, if the result is all 0, then it is **constant**; else, it is **balanced**."
   ]
  },
  {
   "cell_type": "markdown",
   "metadata": {},
   "source": [
    "## Randomizing Depolarizing Channel\n",
    "\n",
    "For each execution, we randomize the depolarizing channel."
   ]
  },
  {
   "cell_type": "code",
   "execution_count": 5,
   "metadata": {},
   "outputs": [],
   "source": [
    "# Values to keep\n",
    "\n",
    "decoherence_percent = 0.1\n",
    "n = 4\n",
    "spread = 'constant' #'balanced' or 'constant'\n",
    "oracle_gate = dj_oracle(spread, n)"
   ]
  },
  {
   "cell_type": "code",
   "execution_count": 6,
   "metadata": {
    "scrolled": true
   },
   "outputs": [
    {
     "data": {
      "text/plain": [
       "0"
      ]
     },
     "execution_count": 6,
     "metadata": {},
     "output_type": "execute_result"
    }
   ],
   "source": [
    "# Return integer value of final answer, to easily determine if constant or balanced.\n",
    "\n",
    "dj_circuit = dj_algorithm(oracle_gate, n, decoherence_percent)\n",
    "results = execute(dj_circuit, backend=BasicAer.get_backend('qasm_simulator'), shots=1).result()\n",
    "answer = int(list(results.get_counts().keys())[0])\n",
    "answer"
   ]
  },
  {
   "cell_type": "markdown",
   "metadata": {},
   "source": [
    "Turning this into a function:"
   ]
  },
  {
   "cell_type": "code",
   "execution_count": 7,
   "metadata": {},
   "outputs": [],
   "source": [
    "def run_dj(spread='constant', shots=100, n=4, decoherence_percent=0.1):\n",
    "    oracle_gate = dj_oracle(spread, n)\n",
    "    count = {}\n",
    "    count['constant'] = 0\n",
    "    count['balanced'] = 0\n",
    "    for i in range(shots):\n",
    "        dj_circuit = dj_algorithm(oracle_gate, n, decoherence_percent)\n",
    "        results = execute(dj_circuit, backend=BasicAer.get_backend('qasm_simulator'), shots=1).result()\n",
    "        answer = int(list(results.get_counts().keys())[0])\n",
    "        \n",
    "        if (answer > 0): count['balanced'] += 1\n",
    "        else: count['constant'] += 1\n",
    "    return count"
   ]
  },
  {
   "cell_type": "code",
   "execution_count": 8,
   "metadata": {},
   "outputs": [
    {
     "data": {
      "text/plain": [
       "{'constant': 8, 'balanced': 92}"
      ]
     },
     "execution_count": 8,
     "metadata": {},
     "output_type": "execute_result"
    }
   ],
   "source": [
    "run_dj(spread='balanced', shots=100, n=5)"
   ]
  },
  {
   "cell_type": "markdown",
   "metadata": {},
   "source": [
    "Now let's run this with increasing decoherence values."
   ]
  },
  {
   "cell_type": "markdown",
   "metadata": {},
   "source": [
    "## Multiple Circuit Runs"
   ]
  },
  {
   "cell_type": "code",
   "execution_count": 9,
   "metadata": {},
   "outputs": [
    {
     "data": {
      "application/vnd.jupyter.widget-view+json": {
       "model_id": "a47d0094b37f45a0aa05b4e1b8195aff",
       "version_major": 2,
       "version_minor": 0
      },
      "text/plain": [
       "HBox(children=(FloatProgress(value=0.0, max=6.0), HTML(value='')))"
      ]
     },
     "metadata": {},
     "output_type": "display_data"
    },
    {
     "name": "stdout",
     "output_type": "stream",
     "text": [
      "\n"
     ]
    },
    {
     "data": {
      "image/png": "[encoded data removed]",
      "text/plain": [
       "<Figure size 1152x648 with 6 Axes>"
      ]
     },
     "metadata": {
      "needs_background": "light"
     },
     "output_type": "display_data"
    }
   ],
   "source": [
    "percentages = [0, 0.1, 0.2, 0.3, 0.4, 0.5, 0.6, 0.7, 0.8, 0.9, 1]\n",
    "n = 4\n",
    "shots=100\n",
    "spread = 'balanced' #'balanced' or 'constant'\n",
    "fig, axs = plt.subplots(2,3, figsize=(16,9))\n",
    "fig.suptitle('Balanced Function - 6 Trials')\n",
    "\n",
    "for element in tqdm(range(6)):\n",
    "    i = int(element/3)\n",
    "    j = element%3\n",
    "    errors = []\n",
    "    for p in percentages:\n",
    "        ans = run_dj(spread=spread, shots=shots, n=n, decoherence_percent=p)\n",
    "        err = (shots - ans[spread])/shots\n",
    "        errors.append(err)\n",
    "\n",
    "    axs[i,j].set_ylim([0,1])\n",
    "    axs[i,j].plot(percentages, errors)\n",
    "    axs[i,j].set(xlabel=\"Decohernence (%)\", ylabel=\"Error (%)\")"
   ]
  },
  {
   "cell_type": "code",
   "execution_count": 10,
   "metadata": {},
   "outputs": [
    {
     "data": {
      "application/vnd.jupyter.widget-view+json": {
       "model_id": "f89376da75e74933bfdb6ace2bb5bd7c",
       "version_major": 2,
       "version_minor": 0
      },
      "text/plain": [
       "HBox(children=(FloatProgress(value=0.0, max=6.0), HTML(value='')))"
      ]
     },
     "metadata": {},
     "output_type": "display_data"
    },
    {
     "name": "stdout",
     "output_type": "stream",
     "text": [
      "\n"
     ]
    },
    {
     "data": {
      "image/png": "[encoded data removed]",
      "text/plain": [
       "<Figure size 1152x648 with 6 Axes>"
      ]
     },
     "metadata": {
      "needs_background": "light"
     },
     "output_type": "display_data"
    }
   ],
   "source": [
    "percentages = [0, 0.1, 0.2, 0.3, 0.4, 0.5, 0.6, 0.7, 0.8, 0.9, 1]\n",
    "n = 4\n",
    "shots=100\n",
    "spread = 'constant' #'balanced' or 'constant'\n",
    "fig, axs = plt.subplots(2,3, figsize=(16,9))\n",
    "fig.suptitle('Constant Function - 6 Trials')\n",
    "\n",
    "for element in tqdm(range(6)):\n",
    "    i = int(element/3)\n",
    "    j = element%3\n",
    "    errors = []\n",
    "    for p in percentages:\n",
    "        ans = run_dj(spread=spread, shots=shots, n=n, decoherence_percent=p)\n",
    "        err = (shots - ans[spread])/shots\n",
    "        errors.append(err)\n",
    "\n",
    "    axs[i,j].set_ylim([0,1])\n",
    "    axs[i,j].plot(percentages, errors)\n",
    "    axs[i,j].set(xlabel=\"Decohernence (%)\", ylabel=\"Error (%)\")"
   ]
  },
  {
   "cell_type": "markdown",
   "metadata": {},
   "source": [
    "As you can see, the constant function yields a graph very similar to the one in Luigi's thesis. However, the balanced function never really shoots past 20% error. Why?\n",
    "\n",
    "This is a result of how the Deutsch-Jozsa function is defined. In the definition of the algorithm, we assume that the given function is either _constant_ or _balanced_, and **nothing in between** (i.e. uneven number of 1's and 0's). If the function is constant, the algorithm would have an output of |0>, and if it is balanced, we would get |1>. Thus, we can set this simple rule:\n",
    "\n",
    "> If the output of the algorithm is |0>, then the function is **constant**; else, it is **balanced**.\n",
    "\n",
    "However, once we introduce decoherence into the system, we introduce these _\"in-between\"_ functions, which would eventually yield in outputs that are not all 1 or all 0 (e.g. `01100`, or `10100`). By definition of the Deutsch-Jozsa algorithm, these readings mean that the function is *balanced*.\n",
    "\n",
    "That is why the error rates in the balanced function are so low. If we have a theoretical reading of `1111` and an actual reading of `1011`, we would still read it as balanced, so the answer would still be correct. On the other hand, if we expect a reading of `0000` but we get a reading of `0010`, we would label a constant function as balanced; hence, error."
   ]
  },
  {
   "cell_type": "code",
   "execution_count": 11,
   "metadata": {},
   "outputs": [],
   "source": [
    "# trials = 10\n",
    "# decoherence_percent = 0.1\n",
    "# percentages = [0, 0.1, 0.2, 0.3, 0.4, 0.5, 0.6, 0.7, 0.8, 0.9, 1]\n",
    "# n = 4\n",
    "# spread = 'balanced' #'balanced' or 'constant'\n",
    "# oracle_func = 0 #For printing the oracle later\n",
    "# for i in percentages:\n",
    "#     f = open(\"trial_results/dj_\" + spread + \"_\" + str(i) + \".txt\", \"w\")\n",
    "#     decoherence_percent = i\n",
    "#     dj_mult(spread, n, trials)\n",
    "#     f.close()"
   ]
  }
 ],
 "metadata": {
  "kernelspec": {
   "display_name": "Python 3",
   "language": "python",
   "name": "python3"
  },
  "language_info": {
   "codemirror_mode": {
    "name": "ipython",
    "version": 3
   },
   "file_extension": ".py",
   "mimetype": "text/x-python",
   "name": "python",
   "nbconvert_exporter": "python",
   "pygments_lexer": "ipython3",
   "version": "3.8.5"
  },
  "widgets": {
   "application/vnd.jupyter.widget-state+json": {
    "state": {
     "0166a9301f354dc294547333063e0075": {
      "model_module": "@jupyter-widgets/base",
      "model_module_version": "1.2.0",
      "model_name": "LayoutModel",
      "state": {}
     },
     "01bc4dd3b6384bb4aca0fad734f66c53": {
      "model_module": "@jupyter-widgets/base",
      "model_module_version": "1.2.0",
      "model_name": "LayoutModel",
      "state": {}
     },
     "030c867148d940cca918265ab1c4fc36": {
      "model_module": "@jupyter-widgets/controls",
      "model_module_version": "1.5.0",
      "model_name": "ProgressStyleModel",
      "state": {
       "description_width": "initial"
      }
     },
     "0340c1624eda4879be541677cd588d33": {
      "model_module": "@jupyter-widgets/base",
      "model_module_version": "1.2.0",
      "model_name": "LayoutModel",
      "state": {}
     },
     "0417b7edbd614d2e9c34bc5a74dd35d2": {
      "model_module": "@jupyter-widgets/base",
      "model_module_version": "1.2.0",
      "model_name": "LayoutModel",
      "state": {}
     },
     "04a563794e194922bf655df3e759a406": {
      "model_module": "@jupyter-widgets/base",
      "model_module_version": "1.2.0",
      "model_name": "LayoutModel",
      "state": {}
     },
     "04f6999ae3e242e9b430f7c8fa5e5c59": {
      "model_module": "@jupyter-widgets/base",
      "model_module_version": "1.2.0",
      "model_name": "LayoutModel",
      "state": {}
     },
     "04fa3d38c07744d39dc7140943db7bb5": {
      "model_module": "@jupyter-widgets/base",
      "model_module_version": "1.2.0",
      "model_name": "LayoutModel",
      "state": {}
     },
     "054763bc72c245f08c3de084b47f5c95": {
      "model_module": "@jupyter-widgets/controls",
      "model_module_version": "1.5.0",
      "model_name": "ProgressStyleModel",
      "state": {
       "description_width": "initial"
      }
     },
     "054cfa80c3cc4812870f5e9137c53c0b": {
      "model_module": "@jupyter-widgets/base",
      "model_module_version": "1.2.0",
      "model_name": "LayoutModel",
      "state": {}
     },
     "058782bd8b6045ce8b98e5be42b5f5e0": {
      "model_module": "@jupyter-widgets/base",
      "model_module_version": "1.2.0",
      "model_name": "LayoutModel",
      "state": {}
     },
     "05ad6f8b02934fcdae5ea897470d7969": {
      "model_module": "@jupyter-widgets/controls",
      "model_module_version": "1.5.0",
      "model_name": "DescriptionStyleModel",
      "state": {
       "description_width": ""
      }
     },
     "0614e2ce1d2b4640a3e52730e54a6425": {
      "model_module": "@jupyter-widgets/controls",
      "model_module_version": "1.5.0",
      "model_name": "HBoxModel",
      "state": {
       "children": [
        "IPY_MODEL_40c3fb6f2b46497cb691adef4800ad15",
        "IPY_MODEL_c55e787433cc4ac9829530b063fc80cf"
       ],
       "layout": "IPY_MODEL_b3184c65eaa64dd7a3d25aab8ce11635"
      }
     },
     "07e7e468a81f491895bf0b15646656b1": {
      "model_module": "@jupyter-widgets/controls",
      "model_module_version": "1.5.0",
      "model_name": "HTMLModel",
      "state": {
       "layout": "IPY_MODEL_fc506bb1cede4143beebe074cbf594b4",
       "style": "IPY_MODEL_ef394cf751294fd7acdf6ac109540e79",
       "value": " 11/11 [03:07&lt;00:00, 17.09s/it]"
      }
     },
     "0838a33a097948d3a621218acc2bb237": {
      "model_module": "@jupyter-widgets/controls",
      "model_module_version": "1.5.0",
      "model_name": "HBoxModel",
      "state": {
       "children": [
        "IPY_MODEL_7b074f957e2546fe872f551ca244dee3",
        "IPY_MODEL_c56125f1b168428e9b17171ebfcdf99d"
       ],
       "layout": "IPY_MODEL_4d3530e61f7b4bcd8c0b783b0ee91baf"
      }
     },
     "084202db7be2454691a2b99de4008e87": {
      "model_module": "@jupyter-widgets/base",
      "model_module_version": "1.2.0",
      "model_name": "LayoutModel",
      "state": {}
     },
     "085baa5936924f569ba022eb30ef2056": {
      "model_module": "@jupyter-widgets/base",
      "model_module_version": "1.2.0",
      "model_name": "LayoutModel",
      "state": {}
     },
     "090f56010de845d9b005e9121f39af0a": {
      "model_module": "@jupyter-widgets/controls",
      "model_module_version": "1.5.0",
      "model_name": "HBoxModel",
      "state": {
       "children": [
        "IPY_MODEL_277e2675790340ffb35c7314fd1cc6ca",
        "IPY_MODEL_65fabe2c584c432aa2ea8afaa738cfde"
       ],
       "layout": "IPY_MODEL_0eca009ef9374ccb9acc08ef5d327008"
      }
     },
     "0913a7e5a57e4601940d84c4159a164a": {
      "model_module": "@jupyter-widgets/base",
      "model_module_version": "1.2.0",
      "model_name": "LayoutModel",
      "state": {}
     },
     "094a738a24a64ebda3f068ba824c3d54": {
      "model_module": "@jupyter-widgets/controls",
      "model_module_version": "1.5.0",
      "model_name": "HTMLModel",
      "state": {
       "layout": "IPY_MODEL_f17663b3871f480189abe68cbd10e05e",
       "style": "IPY_MODEL_56434caa74d04da5bb3a46cea613063d",
       "value": " 11/11 [01:43&lt;00:00,  9.44s/it]"
      }
     },
     "09c6c62fb8c94a28ad432a2b2253ed9d": {
      "model_module": "@jupyter-widgets/controls",
      "model_module_version": "1.5.0",
      "model_name": "HTMLModel",
      "state": {
       "layout": "IPY_MODEL_085baa5936924f569ba022eb30ef2056",
       "style": "IPY_MODEL_bbf139ad423447ee85f4bfd57c762567",
       "value": " 11/11 [00:30&lt;00:00,  2.77s/it]"
      }
     },
     "0bd20b4485be4120b7ea4f99e15e2715": {
      "model_module": "@jupyter-widgets/controls",
      "model_module_version": "1.5.0",
      "model_name": "ProgressStyleModel",
      "state": {
       "description_width": "initial"
      }
     },
     "0c4973c06e924c55b0f96b37c87cff43": {
      "model_module": "@jupyter-widgets/controls",
      "model_module_version": "1.5.0",
      "model_name": "ProgressStyleModel",
      "state": {
       "description_width": "initial"
      }
     },
     "0d9c2f8c619140b896b09120aac1de92": {
      "model_module": "@jupyter-widgets/controls",
      "model_module_version": "1.5.0",
      "model_name": "HBoxModel",
      "state": {
       "children": [
        "IPY_MODEL_ac0152a163524668ba7ba8df994207e9",
        "IPY_MODEL_3ff3c2cb215849b6aa6197540aa73a9e"
       ],
       "layout": "IPY_MODEL_01bc4dd3b6384bb4aca0fad734f66c53"
      }
     },
     "0dac8b75f5d6458fb1da2452f57df63d": {
      "model_module": "@jupyter-widgets/base",
      "model_module_version": "1.2.0",
      "model_name": "LayoutModel",
      "state": {}
     },
     "0df79953c30a484a9e1b347d1ab79b6c": {
      "model_module": "@jupyter-widgets/base",
      "model_module_version": "1.2.0",
      "model_name": "LayoutModel",
      "state": {}
     },
     "0e46f2ba4c844703a59516861ea1f2b3": {
      "model_module": "@jupyter-widgets/controls",
      "model_module_version": "1.5.0",
      "model_name": "HBoxModel",
      "state": {
       "children": [
        "IPY_MODEL_35b9f73df77149228aae2fdac9f39572",
        "IPY_MODEL_97ba31a2479e4c68a5c9a732eff6776c"
       ],
       "layout": "IPY_MODEL_b1649a3446bf4b66b1d069a8779c22c9"
      }
     },
     "0eca009ef9374ccb9acc08ef5d327008": {
      "model_module": "@jupyter-widgets/base",
      "model_module_version": "1.2.0",
      "model_name": "LayoutModel",
      "state": {}
     },
     "101585e0bde74b4ebd76c0b6370e2989": {
      "model_module": "@jupyter-widgets/base",
      "model_module_version": "1.2.0",
      "model_name": "LayoutModel",
      "state": {}
     },
     "1147c10c01814c7398a07a2bd64dc630": {
      "model_module": "@jupyter-widgets/controls",
      "model_module_version": "1.5.0",
      "model_name": "HBoxModel",
      "state": {
       "children": [
        "IPY_MODEL_3c244bc3caf4494b9b45370637a3ba6e",
        "IPY_MODEL_07e7e468a81f491895bf0b15646656b1"
       ],
       "layout": "IPY_MODEL_7715d3aeb1d84317b8f77bbfdbd4222e"
      }
     },
     "1148487936b8473aa1b0c60437bbf6be": {
      "model_module": "@jupyter-widgets/base",
      "model_module_version": "1.2.0",
      "model_name": "LayoutModel",
      "state": {}
     },
     "1150832b5b644ec8b0811f31012f5760": {
      "model_module": "@jupyter-widgets/controls",
      "model_module_version": "1.5.0",
      "model_name": "ProgressStyleModel",
      "state": {
       "description_width": "initial"
      }
     },
     "12a47d027bce442a8b4ab9248a0f2b7d": {
      "model_module": "@jupyter-widgets/base",
      "model_module_version": "1.2.0",
      "model_name": "LayoutModel",
      "state": {}
     },
     "130e5dd40acc4c5e8b56d717f8b8b52f": {
      "model_module": "@jupyter-widgets/base",
      "model_module_version": "1.2.0",
      "model_name": "LayoutModel",
      "state": {}
     },
     "141a46119ecc4e64841bdf97a4fb3304": {
      "model_module": "@jupyter-widgets/base",
      "model_module_version": "1.2.0",
      "model_name": "LayoutModel",
      "state": {}
     },
     "1563dfe7058f4a05b81360faee7f906b": {
      "model_module": "@jupyter-widgets/controls",
      "model_module_version": "1.5.0",
      "model_name": "ProgressStyleModel",
      "state": {
       "description_width": "initial"
      }
     },
     "166455f3946d4a06a4810037164bb8a8": {
      "model_module": "@jupyter-widgets/controls",
      "model_module_version": "1.5.0",
      "model_name": "FloatProgressModel",
      "state": {
       "bar_style": "danger",
       "description": " 17%",
       "layout": "IPY_MODEL_130e5dd40acc4c5e8b56d717f8b8b52f",
       "max": 6,
       "style": "IPY_MODEL_6a9f640e654142929075ed28dd328099",
       "value": 1
      }
     },
     "17ea83cc9a98448593ea813060ccd67a": {
      "model_module": "@jupyter-widgets/controls",
      "model_module_version": "1.5.0",
      "model_name": "HTMLModel",
      "state": {
       "layout": "IPY_MODEL_0417b7edbd614d2e9c34bc5a74dd35d2",
       "style": "IPY_MODEL_88a611aabbea4663adb3ed0256d74c6d",
       "value": " 11/11 [00:01&lt;00:00,  5.61it/s]"
      }
     },
     "1832728e293742b69df75fd337258270": {
      "model_module": "@jupyter-widgets/controls",
      "model_module_version": "1.5.0",
      "model_name": "HBoxModel",
      "state": {
       "children": [
        "IPY_MODEL_7e5876eae1bc476ab4b851bcffc4b47f",
        "IPY_MODEL_5f0f6ce32f1b46c1a945e6e2eb75d4b0"
       ],
       "layout": "IPY_MODEL_1148487936b8473aa1b0c60437bbf6be"
      }
     },
     "187cbd81c1b54370855b99776113886b": {
      "model_module": "@jupyter-widgets/base",
      "model_module_version": "1.2.0",
      "model_name": "LayoutModel",
      "state": {}
     },
     "18b398dc15844567a3a0105f8e7775f9": {
      "model_module": "@jupyter-widgets/controls",
      "model_module_version": "1.5.0",
      "model_name": "ProgressStyleModel",
      "state": {
       "description_width": "initial"
      }
     },
     "1a59972ade0246d782774a2a6fd2b13b": {
      "model_module": "@jupyter-widgets/controls",
      "model_module_version": "1.5.0",
      "model_name": "HBoxModel",
      "state": {
       "children": [
        "IPY_MODEL_74bac9b8e96a4b6fb513605cb7b11ab6",
        "IPY_MODEL_5e979ae4340240daba222cea1f572f30"
       ],
       "layout": "IPY_MODEL_f9f2c2d75b094629a4d277d6fad15e46"
      }
     },
     "1dcf06368df046ada914189377809d1d": {
      "model_module": "@jupyter-widgets/controls",
      "model_module_version": "1.5.0",
      "model_name": "HBoxModel",
      "state": {
       "children": [
        "IPY_MODEL_ad4b2d5333b94c688069e56bb6f85f12",
        "IPY_MODEL_3fcb58f59ba14a3f9e1afe7e529cebb5"
       ],
       "layout": "IPY_MODEL_fd8eb9dd56fd4d9280cd340d264fa1b6"
      }
     },
     "1dd68ae5cc294c1e965f2080d823d987": {
      "model_module": "@jupyter-widgets/base",
      "model_module_version": "1.2.0",
      "model_name": "LayoutModel",
      "state": {}
     },
     "1fa7b521d13c4c9cb925d5dec6fb98d0": {
      "model_module": "@jupyter-widgets/controls",
      "model_module_version": "1.5.0",
      "model_name": "HBoxModel",
      "state": {
       "children": [
        "IPY_MODEL_4922f239ca85440e985dfb058c8f7b5d",
        "IPY_MODEL_4a887a1f19fb4b558acbaf6e83aca453"
       ],
       "layout": "IPY_MODEL_85c7be44a6bf4cc4b714ecb16ab774f5"
      }
     },
     "208a99072b3a4261bf2cf91cb336f563": {
      "model_module": "@jupyter-widgets/controls",
      "model_module_version": "1.5.0",
      "model_name": "FloatProgressModel",
      "state": {
       "bar_style": "success",
       "description": "100%",
       "layout": "IPY_MODEL_3c87f3910c4a42fb9e0aa9296c93c746",
       "max": 11,
       "style": "IPY_MODEL_c9960be52b68486a90456918cfbcb02a",
       "value": 11
      }
     },
     "208c13b18482409ea89f065f28b3b8ea": {
      "model_module": "@jupyter-widgets/controls",
      "model_module_version": "1.5.0",
      "model_name": "ProgressStyleModel",
      "state": {
       "description_width": "initial"
      }
     },
     "21cb42dcfff9474d9ef5e96e52a4397d": {
      "model_module": "@jupyter-widgets/base",
      "model_module_version": "1.2.0",
      "model_name": "LayoutModel",
      "state": {}
     },
     "22413690ae524ab5aba7abead14bfb12": {
      "model_module": "@jupyter-widgets/base",
      "model_module_version": "1.2.0",
      "model_name": "LayoutModel",
      "state": {}
     },
     "23183e492fd2440989a2623a5dcd43cd": {
      "model_module": "@jupyter-widgets/controls",
      "model_module_version": "1.5.0",
      "model_name": "ProgressStyleModel",
      "state": {
       "description_width": "initial"
      }
     },
     "238e84dc9ad44ef497923c50e2852a0e": {
      "model_module": "@jupyter-widgets/controls",
      "model_module_version": "1.5.0",
      "model_name": "DescriptionStyleModel",
      "state": {
       "description_width": ""
      }
     },
     "245e7fbfc11e49e2a7a0136005a0879f": {
      "model_module": "@jupyter-widgets/base",
      "model_module_version": "1.2.0",
      "model_name": "LayoutModel",
      "state": {}
     },
     "24fd956cc0d546ea9836374724d0cf3e": {
      "model_module": "@jupyter-widgets/controls",
      "model_module_version": "1.5.0",
      "model_name": "FloatProgressModel",
      "state": {
       "bar_style": "success",
       "description": "100%",
       "layout": "IPY_MODEL_ac9eb7f6df3a4b3d8db0a28e87b11246",
       "max": 6,
       "style": "IPY_MODEL_dc36c32bf7c5414da44e5770d3f09a1c",
       "value": 6
      }
     },
     "277e2675790340ffb35c7314fd1cc6ca": {
      "model_module": "@jupyter-widgets/controls",
      "model_module_version": "1.5.0",
      "model_name": "FloatProgressModel",
      "state": {
       "bar_style": "success",
       "description": "100%",
       "layout": "IPY_MODEL_9d516d1f8e614235a3312eb2ebd20af9",
       "max": 11,
       "style": "IPY_MODEL_6cc6bc0d433d4497b16138e13c7f7122",
       "value": 11
      }
     },
     "27c79472bc9c40919def5d09df3b0f9d": {
      "model_module": "@jupyter-widgets/base",
      "model_module_version": "1.2.0",
      "model_name": "LayoutModel",
      "state": {}
     },
     "28f9a21fe5904f16872642db3f236571": {
      "model_module": "@jupyter-widgets/base",
      "model_module_version": "1.2.0",
      "model_name": "LayoutModel",
      "state": {}
     },
     "2b0e02cde19a40b99cc693effac3b05f": {
      "model_module": "@jupyter-widgets/controls",
      "model_module_version": "1.5.0",
      "model_name": "DescriptionStyleModel",
      "state": {
       "description_width": ""
      }
     },
     "2b333eb29f2b43878ca16a0ed4d1c01e": {
      "model_module": "@jupyter-widgets/base",
      "model_module_version": "1.2.0",
      "model_name": "LayoutModel",
      "state": {}
     },
     "2cfb3774b73341aeb398e01186e10e78": {
      "model_module": "@jupyter-widgets/base",
      "model_module_version": "1.2.0",
      "model_name": "LayoutModel",
      "state": {}
     },
     "2d54cb358be846718aabceffd0edb684": {
      "model_module": "@jupyter-widgets/controls",
      "model_module_version": "1.5.0",
      "model_name": "FloatProgressModel",
      "state": {
       "bar_style": "success",
       "description": "100%",
       "layout": "IPY_MODEL_b4262851d390469a817ddecc83c05b97",
       "max": 11,
       "style": "IPY_MODEL_0c4973c06e924c55b0f96b37c87cff43",
       "value": 11
      }
     },
     "2ed228efe4064edcb42f94b32cea9038": {
      "model_module": "@jupyter-widgets/controls",
      "model_module_version": "1.5.0",
      "model_name": "DescriptionStyleModel",
      "state": {
       "description_width": ""
      }
     },
     "2ed93daf7f274183893280825188c4d7": {
      "model_module": "@jupyter-widgets/base",
      "model_module_version": "1.2.0",
      "model_name": "LayoutModel",
      "state": {}
     },
     "2ffdfbce267a45c18773554185f903ca": {
      "model_module": "@jupyter-widgets/controls",
      "model_module_version": "1.5.0",
      "model_name": "FloatProgressModel",
      "state": {
       "bar_style": "danger",
       "description": "  0%",
       "layout": "IPY_MODEL_ea9e4394766b42989e2582f7b2a7fd1e",
       "max": 6,
       "style": "IPY_MODEL_83a5acb75a0646eeab71f24bcc56caba"
      }
     },
     "308eb8d02f1042d3aae6a9d3b4b4f83c": {
      "model_module": "@jupyter-widgets/controls",
      "model_module_version": "1.5.0",
      "model_name": "DescriptionStyleModel",
      "state": {
       "description_width": ""
      }
     },
     "310bafc76dbc4cf0a6378dfc6edecb43": {
      "model_module": "@jupyter-widgets/controls",
      "model_module_version": "1.5.0",
      "model_name": "DescriptionStyleModel",
      "state": {
       "description_width": ""
      }
     },
     "31576905888a44728979055560a22089": {
      "model_module": "@jupyter-widgets/base",
      "model_module_version": "1.2.0",
      "model_name": "LayoutModel",
      "state": {}
     },
     "317f6b44f9934f898197408fa701badc": {
      "model_module": "@jupyter-widgets/controls",
      "model_module_version": "1.5.0",
      "model_name": "HBoxModel",
      "state": {
       "children": [
        "IPY_MODEL_8d2263c21c944284b482508624874faa",
        "IPY_MODEL_3830259d924d40438f32ca924346b9c4"
       ],
       "layout": "IPY_MODEL_d652744f0661483fbb383874a2a7daee"
      }
     },
     "322e9c29efe049f2b24f08cdcbde0bb1": {
      "model_module": "@jupyter-widgets/base",
      "model_module_version": "1.2.0",
      "model_name": "LayoutModel",
      "state": {}
     },
     "33a2c544ec39466fa0cfaa951aae5fdc": {
      "model_module": "@jupyter-widgets/base",
      "model_module_version": "1.2.0",
      "model_name": "LayoutModel",
      "state": {}
     },
     "35b9f73df77149228aae2fdac9f39572": {
      "model_module": "@jupyter-widgets/controls",
      "model_module_version": "1.5.0",
      "model_name": "FloatProgressModel",
      "state": {
       "bar_style": "success",
       "description": "100%",
       "layout": "IPY_MODEL_cd4b2fbe602a472ebef78089667d3f91",
       "max": 11,
       "style": "IPY_MODEL_5eff4c0c3176479b962ceeea477f53a4",
       "value": 11
      }
     },
     "377e8951b73a491b99824c7d2ceae8c6": {
      "model_module": "@jupyter-widgets/base",
      "model_module_version": "1.2.0",
      "model_name": "LayoutModel",
      "state": {}
     },
     "37d28e35100f4fe99e7cab30a150536e": {
      "model_module": "@jupyter-widgets/controls",
      "model_module_version": "1.5.0",
      "model_name": "HBoxModel",
      "state": {
       "children": [
        "IPY_MODEL_c09a18512a9748b1aea96f0ed2d81353",
        "IPY_MODEL_92418326cf3549d696193d5b0a52fe58"
       ],
       "layout": "IPY_MODEL_99dfdf9fc6c448499c6c946802224701"
      }
     },
     "37d5289e6b9a46ee924fe344c7026a62": {
      "model_module": "@jupyter-widgets/controls",
      "model_module_version": "1.5.0",
      "model_name": "HTMLModel",
      "state": {
       "layout": "IPY_MODEL_39f0e34658314bca815063c187264fc7",
       "style": "IPY_MODEL_e08eda84e597420299dca3417980976b",
       "value": " 11/11 [00:36&lt;00:00,  3.27s/it]"
      }
     },
     "3830259d924d40438f32ca924346b9c4": {
      "model_module": "@jupyter-widgets/controls",
      "model_module_version": "1.5.0",
      "model_name": "HTMLModel",
      "state": {
       "layout": "IPY_MODEL_9124cd0de5fd4dc89a7ead3072e0c167",
       "style": "IPY_MODEL_d1030986e5cd440ebb6453adf9ab5c74",
       "value": " 11/11 [02:20&lt;00:00, 12.79s/it]"
      }
     },
     "38950c67fb5b437894f21d24d1369338": {
      "model_module": "@jupyter-widgets/controls",
      "model_module_version": "1.5.0",
      "model_name": "DescriptionStyleModel",
      "state": {
       "description_width": ""
      }
     },
     "389a42e46f0242d6b784c10375a334db": {
      "model_module": "@jupyter-widgets/controls",
      "model_module_version": "1.5.0",
      "model_name": "HBoxModel",
      "state": {
       "children": [
        "IPY_MODEL_7f5e4f8a6a3d4d4fafe55ba135383a73",
        "IPY_MODEL_3f962a9bf9044251a2434d61fef4a402"
       ],
       "layout": "IPY_MODEL_7bb62ba4bcf64b02856287a88743c92d"
      }
     },
     "39f0e34658314bca815063c187264fc7": {
      "model_module": "@jupyter-widgets/base",
      "model_module_version": "1.2.0",
      "model_name": "LayoutModel",
      "state": {}
     },
     "3b37e0018dbe450f8382395595bce658": {
      "model_module": "@jupyter-widgets/controls",
      "model_module_version": "1.5.0",
      "model_name": "ProgressStyleModel",
      "state": {
       "description_width": "initial"
      }
     },
     "3bdb462d28044095aee31169369d6478": {
      "model_module": "@jupyter-widgets/base",
      "model_module_version": "1.2.0",
      "model_name": "LayoutModel",
      "state": {}
     },
     "3c244bc3caf4494b9b45370637a3ba6e": {
      "model_module": "@jupyter-widgets/controls",
      "model_module_version": "1.5.0",
      "model_name": "FloatProgressModel",
      "state": {
       "bar_style": "success",
       "description": "100%",
       "layout": "IPY_MODEL_5c50cd50a66d458298c91144d0216d3a",
       "max": 11,
       "style": "IPY_MODEL_424d1281a7af46858005e0a808f0394c",
       "value": 11
      }
     },
     "3c87f3910c4a42fb9e0aa9296c93c746": {
      "model_module": "@jupyter-widgets/base",
      "model_module_version": "1.2.0",
      "model_name": "LayoutModel",
      "state": {}
     },
     "3e072bc4a8e647fbaf360df5b2108cee": {
      "model_module": "@jupyter-widgets/controls",
      "model_module_version": "1.5.0",
      "model_name": "FloatProgressModel",
      "state": {
       "bar_style": "success",
       "description": "100%",
       "layout": "IPY_MODEL_28f9a21fe5904f16872642db3f236571",
       "max": 11,
       "style": "IPY_MODEL_78648d2ddb4e429d9428591eb0cd7f31",
       "value": 11
      }
     },
     "3e2a98728d8f4c45941016e7b621aab8": {
      "model_module": "@jupyter-widgets/controls",
      "model_module_version": "1.5.0",
      "model_name": "HBoxModel",
      "state": {
       "children": [
        "IPY_MODEL_bdde4026230346379ae86ab1b4e2d5db",
        "IPY_MODEL_ef6d215483804b0183143150936983a6"
       ],
       "layout": "IPY_MODEL_377e8951b73a491b99824c7d2ceae8c6"
      }
     },
     "3e9327cda74e4fa89a03da8a5a6f19da": {
      "model_module": "@jupyter-widgets/controls",
      "model_module_version": "1.5.0",
      "model_name": "HTMLModel",
      "state": {
       "layout": "IPY_MODEL_fbd889704a2945a2a701ba481f38a1b2",
       "style": "IPY_MODEL_38950c67fb5b437894f21d24d1369338",
       "value": " 0/6 [00:00&lt;?, ?it/s]"
      }
     },
     "3ed2c005953d4c75b0932a1cea2bdec6": {
      "model_module": "@jupyter-widgets/controls",
      "model_module_version": "1.5.0",
      "model_name": "DescriptionStyleModel",
      "state": {
       "description_width": ""
      }
     },
     "3f73e13ddc464c54a99704cbc1f6ef43": {
      "model_module": "@jupyter-widgets/controls",
      "model_module_version": "1.5.0",
      "model_name": "HTMLModel",
      "state": {
       "layout": "IPY_MODEL_27c79472bc9c40919def5d09df3b0f9d",
       "style": "IPY_MODEL_b04f40b3c63446e39a2cbb608b58489d",
       "value": " 6/6 [01:44&lt;00:00, 17.47s/it]"
      }
     },
     "3f962a9bf9044251a2434d61fef4a402": {
      "model_module": "@jupyter-widgets/controls",
      "model_module_version": "1.5.0",
      "model_name": "HTMLModel",
      "state": {
       "layout": "IPY_MODEL_ada1e999bd0a409daae54139c305a6bf",
       "style": "IPY_MODEL_964eecfbecd24c15aa78b54a05585f2d",
       "value": " 11/11 [03:52&lt;00:00, 21.09s/it]"
      }
     },
     "3fcb58f59ba14a3f9e1afe7e529cebb5": {
      "model_module": "@jupyter-widgets/controls",
      "model_module_version": "1.5.0",
      "model_name": "HTMLModel",
      "state": {
       "layout": "IPY_MODEL_5568239953e34b24a09d03dddc61c74f",
       "style": "IPY_MODEL_e866d33b5fd04550ab2b85a9cc10d487",
       "value": " 11/11 [00:17&lt;00:00,  1.59s/it]"
      }
     },
     "3ff3c2cb215849b6aa6197540aa73a9e": {
      "model_module": "@jupyter-widgets/controls",
      "model_module_version": "1.5.0",
      "model_name": "HTMLModel",
      "state": {
       "layout": "IPY_MODEL_0166a9301f354dc294547333063e0075",
       "style": "IPY_MODEL_54b88e0b7c0c4548a7fc34c6b2fdea45",
       "value": " 11/11 [00:35&lt;00:00,  3.18s/it]"
      }
     },
     "40c3fb6f2b46497cb691adef4800ad15": {
      "model_module": "@jupyter-widgets/controls",
      "model_module_version": "1.5.0",
      "model_name": "FloatProgressModel",
      "state": {
       "bar_style": "danger",
       "description": "  0%",
       "layout": "IPY_MODEL_beffce3f28804ea4a3abda9c011643d8",
       "max": 6,
       "style": "IPY_MODEL_ea15301eed12428b80957e306af13e03"
      }
     },
     "40f611cfe0374db2a418c1b4b6441597": {
      "model_module": "@jupyter-widgets/controls",
      "model_module_version": "1.5.0",
      "model_name": "FloatProgressModel",
      "state": {
       "bar_style": "success",
       "description": "100%",
       "layout": "IPY_MODEL_0dac8b75f5d6458fb1da2452f57df63d",
       "max": 11,
       "style": "IPY_MODEL_670229103c434cb1bb60e4db25fd0078",
       "value": 11
      }
     },
     "41b8692e2fad47bb95ae8adeda5bc044": {
      "model_module": "@jupyter-widgets/controls",
      "model_module_version": "1.5.0",
      "model_name": "ProgressStyleModel",
      "state": {
       "description_width": "initial"
      }
     },
     "422a70ed31814c5c98186815f3e0f7bd": {
      "model_module": "@jupyter-widgets/controls",
      "model_module_version": "1.5.0",
      "model_name": "FloatProgressModel",
      "state": {
       "bar_style": "success",
       "description": "100%",
       "layout": "IPY_MODEL_04fa3d38c07744d39dc7140943db7bb5",
       "max": 11,
       "style": "IPY_MODEL_8a1b9aaeec0441d5afcf3337d1d54c1e",
       "value": 11
      }
     },
     "424d1281a7af46858005e0a808f0394c": {
      "model_module": "@jupyter-widgets/controls",
      "model_module_version": "1.5.0",
      "model_name": "ProgressStyleModel",
      "state": {
       "description_width": "initial"
      }
     },
     "42eeead5a9ca451583e6cbaa9681d06c": {
      "model_module": "@jupyter-widgets/controls",
      "model_module_version": "1.5.0",
      "model_name": "ProgressStyleModel",
      "state": {
       "description_width": "initial"
      }
     },
     "433ee8883bdc4c6780a38786751bbef5": {
      "model_module": "@jupyter-widgets/base",
      "model_module_version": "1.2.0",
      "model_name": "LayoutModel",
      "state": {}
     },
     "43e9c2854a9f4748b346049dc75b965b": {
      "model_module": "@jupyter-widgets/base",
      "model_module_version": "1.2.0",
      "model_name": "LayoutModel",
      "state": {}
     },
     "442a09aa0e494837a1f61839c1893e66": {
      "model_module": "@jupyter-widgets/controls",
      "model_module_version": "1.5.0",
      "model_name": "HBoxModel",
      "state": {
       "children": [
        "IPY_MODEL_c49c9b5fc9f540809fc4e0d1f93248c0",
        "IPY_MODEL_e75217563d534841ae0bcaabf5619981"
       ],
       "layout": "IPY_MODEL_141a46119ecc4e64841bdf97a4fb3304"
      }
     },
     "44546d3d62134e9784b40e704ceb0eee": {
      "model_module": "@jupyter-widgets/base",
      "model_module_version": "1.2.0",
      "model_name": "LayoutModel",
      "state": {}
     },
     "4467f0876fe8419d87f38f79cf29f8f5": {
      "model_module": "@jupyter-widgets/controls",
      "model_module_version": "1.5.0",
      "model_name": "FloatProgressModel",
      "state": {
       "bar_style": "success",
       "description": "100%",
       "layout": "IPY_MODEL_43e9c2854a9f4748b346049dc75b965b",
       "max": 11,
       "style": "IPY_MODEL_6c7955b247b9493397427bf08ec71ddd",
       "value": 11
      }
     },
     "45dba74a7ea24f9b96a1039f0362b3ba": {
      "model_module": "@jupyter-widgets/controls",
      "model_module_version": "1.5.0",
      "model_name": "HBoxModel",
      "state": {
       "children": [
        "IPY_MODEL_422a70ed31814c5c98186815f3e0f7bd",
        "IPY_MODEL_523e7de4b6634868b1d4e218885c7d2b"
       ],
       "layout": "IPY_MODEL_6e8654b8a91d42e0a64af96dc933db3a"
      }
     },
     "45e4104d13de40d295e33b50f7a0536b": {
      "model_module": "@jupyter-widgets/base",
      "model_module_version": "1.2.0",
      "model_name": "LayoutModel",
      "state": {}
     },
     "4623bf2b0aae4fb49e1f760e671fd3e4": {
      "model_module": "@jupyter-widgets/controls",
      "model_module_version": "1.5.0",
      "model_name": "DescriptionStyleModel",
      "state": {
       "description_width": ""
      }
     },
     "48841ee03a0447d09af60b3536cad8bf": {
      "model_module": "@jupyter-widgets/base",
      "model_module_version": "1.2.0",
      "model_name": "LayoutModel",
      "state": {}
     },
     "4922f239ca85440e985dfb058c8f7b5d": {
      "model_module": "@jupyter-widgets/controls",
      "model_module_version": "1.5.0",
      "model_name": "FloatProgressModel",
      "state": {
       "bar_style": "success",
       "description": "100%",
       "layout": "IPY_MODEL_aa759735c4844f719252cadbd56ce786",
       "max": 6,
       "style": "IPY_MODEL_a67f1d8c89534eac970313af3c4350b7",
       "value": 6
      }
     },
     "4a887a1f19fb4b558acbaf6e83aca453": {
      "model_module": "@jupyter-widgets/controls",
      "model_module_version": "1.5.0",
      "model_name": "HTMLModel",
      "state": {
       "layout": "IPY_MODEL_e3c8269ec7124c169c651a0442166197",
       "style": "IPY_MODEL_9862a358c2be47649e41e5f6a1585702",
       "value": " 6/6 [04:10&lt;00:00, 41.83s/it]"
      }
     },
     "4a8b8327a7ca4d5aaccd4dc59fbfa1d7": {
      "model_module": "@jupyter-widgets/controls",
      "model_module_version": "1.5.0",
      "model_name": "HTMLModel",
      "state": {
       "layout": "IPY_MODEL_b48f73cb0ef84626aa7e8ca31f5b2d57",
       "style": "IPY_MODEL_ff048145dbcd4b949f8fc3b006db2bf7",
       "value": " 11/11 [00:32&lt;00:00,  2.96s/it]"
      }
     },
     "4ad661d7066b4e5da652b79b76a67194": {
      "model_module": "@jupyter-widgets/base",
      "model_module_version": "1.2.0",
      "model_name": "LayoutModel",
      "state": {}
     },
     "4b73861d222e4cc4a08cf242e253d703": {
      "model_module": "@jupyter-widgets/controls",
      "model_module_version": "1.5.0",
      "model_name": "ProgressStyleModel",
      "state": {
       "description_width": "initial"
      }
     },
     "4c3788a0c537459b80874406e11ccd6c": {
      "model_module": "@jupyter-widgets/base",
      "model_module_version": "1.2.0",
      "model_name": "LayoutModel",
      "state": {}
     },
     "4c42efed73c94ec585411ef29719e5b6": {
      "model_module": "@jupyter-widgets/controls",
      "model_module_version": "1.5.0",
      "model_name": "HTMLModel",
      "state": {
       "layout": "IPY_MODEL_12a47d027bce442a8b4ab9248a0f2b7d",
       "style": "IPY_MODEL_9cf513f7c6454066a4d3cb9e0e80dbb1",
       "value": " 11/11 [00:37&lt;00:00,  3.38s/it]"
      }
     },
     "4c7e2bb9bd0e4a7096102719e0740ec5": {
      "model_module": "@jupyter-widgets/base",
      "model_module_version": "1.2.0",
      "model_name": "LayoutModel",
      "state": {}
     },
     "4cb2cbd3ae304a0298ffb167a763178c": {
      "model_module": "@jupyter-widgets/base",
      "model_module_version": "1.2.0",
      "model_name": "LayoutModel",
      "state": {}
     },
     "4d3530e61f7b4bcd8c0b783b0ee91baf": {
      "model_module": "@jupyter-widgets/base",
      "model_module_version": "1.2.0",
      "model_name": "LayoutModel",
      "state": {}
     },
     "4d694a16a6f046db99dd5e2346dbc613": {
      "model_module": "@jupyter-widgets/base",
      "model_module_version": "1.2.0",
      "model_name": "LayoutModel",
      "state": {}
     },
     "4ebf9ce28c3c4b2ebcfc8b9fc0411c6a": {
      "model_module": "@jupyter-widgets/controls",
      "model_module_version": "1.5.0",
      "model_name": "HBoxModel",
      "state": {
       "children": [
        "IPY_MODEL_bdef07a083e04a209d9f6d88dbe49a14",
        "IPY_MODEL_6661272e23944212b2a6662f83c0fa50"
       ],
       "layout": "IPY_MODEL_f7f96d44bfec42e2940009f906e959c3"
      }
     },
     "50f0c153a4704792b3b9840ec2d77013": {
      "model_module": "@jupyter-widgets/base",
      "model_module_version": "1.2.0",
      "model_name": "LayoutModel",
      "state": {}
     },
     "51a5ca0ea81043488bbbf27a056a5d30": {
      "model_module": "@jupyter-widgets/controls",
      "model_module_version": "1.5.0",
      "model_name": "HTMLModel",
      "state": {
       "layout": "IPY_MODEL_ee9cba60e13e434da5167e2a9bbaf42e",
       "style": "IPY_MODEL_918ff2bf1b1d48f888d2a3eec3e3898e",
       "value": " 11/11 [03:54&lt;00:00, 21.30s/it]"
      }
     },
     "523e7de4b6634868b1d4e218885c7d2b": {
      "model_module": "@jupyter-widgets/controls",
      "model_module_version": "1.5.0",
      "model_name": "HTMLModel",
      "state": {
       "layout": "IPY_MODEL_31576905888a44728979055560a22089",
       "style": "IPY_MODEL_238e84dc9ad44ef497923c50e2852a0e",
       "value": " 11/11 [04:00&lt;00:00, 21.86s/it]"
      }
     },
     "54a56c30f12e4d1b9bb7252ab3551c42": {
      "model_module": "@jupyter-widgets/controls",
      "model_module_version": "1.5.0",
      "model_name": "HBoxModel",
      "state": {
       "children": [
        "IPY_MODEL_cdcfbcad6da64c0d89166ae7d16b5615",
        "IPY_MODEL_b7b96fd3ae0a451d873ef0ac6a3748a2"
       ],
       "layout": "IPY_MODEL_5689a07236b94a54bf59400674b11482"
      }
     },
     "54b88e0b7c0c4548a7fc34c6b2fdea45": {
      "model_module": "@jupyter-widgets/controls",
      "model_module_version": "1.5.0",
      "model_name": "DescriptionStyleModel",
      "state": {
       "description_width": ""
      }
     },
     "5568239953e34b24a09d03dddc61c74f": {
      "model_module": "@jupyter-widgets/base",
      "model_module_version": "1.2.0",
      "model_name": "LayoutModel",
      "state": {}
     },
     "557500a9a2404e598c9978f28ce80003": {
      "model_module": "@jupyter-widgets/controls",
      "model_module_version": "1.5.0",
      "model_name": "HBoxModel",
      "state": {
       "children": [
        "IPY_MODEL_64baadf2d486476bba92a39c1cc6ddff",
        "IPY_MODEL_d785329f7ab647569b34b4c55e2b9db3"
       ],
       "layout": "IPY_MODEL_a030789624924ab99021f8c921e47022"
      }
     },
     "56369377d2684faabae70865bd761d13": {
      "model_module": "@jupyter-widgets/base",
      "model_module_version": "1.2.0",
      "model_name": "LayoutModel",
      "state": {}
     },
     "56434caa74d04da5bb3a46cea613063d": {
      "model_module": "@jupyter-widgets/controls",
      "model_module_version": "1.5.0",
      "model_name": "DescriptionStyleModel",
      "state": {
       "description_width": ""
      }
     },
     "5689a07236b94a54bf59400674b11482": {
      "model_module": "@jupyter-widgets/base",
      "model_module_version": "1.2.0",
      "model_name": "LayoutModel",
      "state": {}
     },
     "59002569cbb5477d8407ddb179738a03": {
      "model_module": "@jupyter-widgets/controls",
      "model_module_version": "1.5.0",
      "model_name": "ProgressStyleModel",
      "state": {
       "description_width": "initial"
      }
     },
     "5b52f4b030c8448c99b00f72b82e6e12": {
      "model_module": "@jupyter-widgets/controls",
      "model_module_version": "1.5.0",
      "model_name": "FloatProgressModel",
      "state": {
       "bar_style": "success",
       "description": "100%",
       "layout": "IPY_MODEL_a1bcaf370fdb4b7b9176a3c3bd7cc72d",
       "max": 11,
       "style": "IPY_MODEL_4b73861d222e4cc4a08cf242e253d703",
       "value": 11
      }
     },
     "5c50cd50a66d458298c91144d0216d3a": {
      "model_module": "@jupyter-widgets/base",
      "model_module_version": "1.2.0",
      "model_name": "LayoutModel",
      "state": {}
     },
     "5d46e885e40a463a9110387521bb45c5": {
      "model_module": "@jupyter-widgets/controls",
      "model_module_version": "1.5.0",
      "model_name": "DescriptionStyleModel",
      "state": {
       "description_width": ""
      }
     },
     "5e979ae4340240daba222cea1f572f30": {
      "model_module": "@jupyter-widgets/controls",
      "model_module_version": "1.5.0",
      "model_name": "HTMLModel",
      "state": {
       "layout": "IPY_MODEL_3bdb462d28044095aee31169369d6478",
       "style": "IPY_MODEL_852e65b672bf466bb9f70c4f571c7056",
       "value": " 6/6 [02:53&lt;00:00, 28.97s/it]"
      }
     },
     "5eff4c0c3176479b962ceeea477f53a4": {
      "model_module": "@jupyter-widgets/controls",
      "model_module_version": "1.5.0",
      "model_name": "ProgressStyleModel",
      "state": {
       "description_width": "initial"
      }
     },
     "5f0f6ce32f1b46c1a945e6e2eb75d4b0": {
      "model_module": "@jupyter-widgets/controls",
      "model_module_version": "1.5.0",
      "model_name": "HTMLModel",
      "state": {
       "layout": "IPY_MODEL_938491e8f01f4b218058cf5db167d09b",
       "style": "IPY_MODEL_5d46e885e40a463a9110387521bb45c5",
       "value": " 6/6 [00:25&lt;00:00,  4.21s/it]"
      }
     },
     "5f14119d101a467f9d46d33dd7b42b2d": {
      "model_module": "@jupyter-widgets/controls",
      "model_module_version": "1.5.0",
      "model_name": "FloatProgressModel",
      "state": {
       "bar_style": "success",
       "description": "100%",
       "layout": "IPY_MODEL_987778b6d7d7410a8895cabddfdf1a71",
       "max": 11,
       "style": "IPY_MODEL_8a0a33880e024a8584b7cb25110bf024",
       "value": 11
      }
     },
     "60a90b6e34d04a2383c34f910e9a981c": {
      "model_module": "@jupyter-widgets/controls",
      "model_module_version": "1.5.0",
      "model_name": "DescriptionStyleModel",
      "state": {
       "description_width": ""
      }
     },
     "61573fbc748a47d29b6bcce3e5e08078": {
      "model_module": "@jupyter-widgets/base",
      "model_module_version": "1.2.0",
      "model_name": "LayoutModel",
      "state": {}
     },
     "6332e26d654143939cb555978e6170e0": {
      "model_module": "@jupyter-widgets/controls",
      "model_module_version": "1.5.0",
      "model_name": "HTMLModel",
      "state": {
       "layout": "IPY_MODEL_9833bc52a7594e00ba6b172ca6ccdcc2",
       "style": "IPY_MODEL_c18d4a65309445199eaf47e2113f8c65",
       "value": " 6/6 [00:11&lt;00:00,  1.84s/it]"
      }
     },
     "64baadf2d486476bba92a39c1cc6ddff": {
      "model_module": "@jupyter-widgets/controls",
      "model_module_version": "1.5.0",
      "model_name": "FloatProgressModel",
      "state": {
       "bar_style": "danger",
       "description": " 36%",
       "layout": "IPY_MODEL_887a910a1a1d4350a651a22be36a2174",
       "max": 11,
       "style": "IPY_MODEL_757fd1b57053463b8aa7f0c89d76271c",
       "value": 4
      }
     },
     "65e33e0fc0454a6abe0d30ba36abb20d": {
      "model_module": "@jupyter-widgets/controls",
      "model_module_version": "1.5.0",
      "model_name": "HTMLModel",
      "state": {
       "layout": "IPY_MODEL_4d694a16a6f046db99dd5e2346dbc613",
       "style": "IPY_MODEL_69f4974c5a484bccbab1b8db9c225930",
       "value": " 11/11 [00:30&lt;00:00,  2.77s/it]"
      }
     },
     "65fabe2c584c432aa2ea8afaa738cfde": {
      "model_module": "@jupyter-widgets/controls",
      "model_module_version": "1.5.0",
      "model_name": "HTMLModel",
      "state": {
       "layout": "IPY_MODEL_8cbb4551608c46e788a412f24460db64",
       "style": "IPY_MODEL_822ca8ab9447458394df8f6905ac1e2f",
       "value": " 11/11 [02:53&lt;00:00, 15.77s/it]"
      }
     },
     "6661272e23944212b2a6662f83c0fa50": {
      "model_module": "@jupyter-widgets/controls",
      "model_module_version": "1.5.0",
      "model_name": "HTMLModel",
      "state": {
       "layout": "IPY_MODEL_e35c18c057724440b57286a2c1516a71",
       "style": "IPY_MODEL_a2b64df6263e4051a659e5505fb048c8",
       "value": " 11/11 [01:20&lt;00:00,  7.28s/it]"
      }
     },
     "670229103c434cb1bb60e4db25fd0078": {
      "model_module": "@jupyter-widgets/controls",
      "model_module_version": "1.5.0",
      "model_name": "ProgressStyleModel",
      "state": {
       "description_width": "initial"
      }
     },
     "6842aa613f684eb197ba4286ae4b661c": {
      "model_module": "@jupyter-widgets/controls",
      "model_module_version": "1.5.0",
      "model_name": "HBoxModel",
      "state": {
       "children": [
        "IPY_MODEL_80f513c2ef964ff980a0b85d19f9576a",
        "IPY_MODEL_a8e59f0474d447e8aea7757d789f7d62"
       ],
       "layout": "IPY_MODEL_6e5ea3cfe6eb45ab95e9b60d53674558"
      }
     },
     "68b7bfea53e149b0849e99716f165948": {
      "model_module": "@jupyter-widgets/base",
      "model_module_version": "1.2.0",
      "model_name": "LayoutModel",
      "state": {}
     },
     "69f4974c5a484bccbab1b8db9c225930": {
      "model_module": "@jupyter-widgets/controls",
      "model_module_version": "1.5.0",
      "model_name": "DescriptionStyleModel",
      "state": {
       "description_width": ""
      }
     },
     "6a80a9515f494602883e7a0e93842456": {
      "model_module": "@jupyter-widgets/controls",
      "model_module_version": "1.5.0",
      "model_name": "HBoxModel",
      "state": {
       "children": [
        "IPY_MODEL_5f14119d101a467f9d46d33dd7b42b2d",
        "IPY_MODEL_09c6c62fb8c94a28ad432a2b2253ed9d"
       ],
       "layout": "IPY_MODEL_ab11a6ae170f4b4c80bafa288d9dd33f"
      }
     },
     "6a9f640e654142929075ed28dd328099": {
      "model_module": "@jupyter-widgets/controls",
      "model_module_version": "1.5.0",
      "model_name": "ProgressStyleModel",
      "state": {
       "description_width": "initial"
      }
     },
     "6c434faa226d46fa850ea8318a9b2bca": {
      "model_module": "@jupyter-widgets/controls",
      "model_module_version": "1.5.0",
      "model_name": "DescriptionStyleModel",
      "state": {
       "description_width": ""
      }
     },
     "6c7955b247b9493397427bf08ec71ddd": {
      "model_module": "@jupyter-widgets/controls",
      "model_module_version": "1.5.0",
      "model_name": "ProgressStyleModel",
      "state": {
       "description_width": "initial"
      }
     },
     "6cc6bc0d433d4497b16138e13c7f7122": {
      "model_module": "@jupyter-widgets/controls",
      "model_module_version": "1.5.0",
      "model_name": "ProgressStyleModel",
      "state": {
       "description_width": "initial"
      }
     },
     "6e5ea3cfe6eb45ab95e9b60d53674558": {
      "model_module": "@jupyter-widgets/base",
      "model_module_version": "1.2.0",
      "model_name": "LayoutModel",
      "state": {}
     },
     "6e8654b8a91d42e0a64af96dc933db3a": {
      "model_module": "@jupyter-widgets/base",
      "model_module_version": "1.2.0",
      "model_name": "LayoutModel",
      "state": {}
     },
     "6fca2ce1a0924ac38d817e372ee90398": {
      "model_module": "@jupyter-widgets/base",
      "model_module_version": "1.2.0",
      "model_name": "LayoutModel",
      "state": {}
     },
     "7010215cbd894e9aa706dc855af8d978": {
      "model_module": "@jupyter-widgets/base",
      "model_module_version": "1.2.0",
      "model_name": "LayoutModel",
      "state": {}
     },
     "73e3a39690724bfb983a3b2f09101869": {
      "model_module": "@jupyter-widgets/controls",
      "model_module_version": "1.5.0",
      "model_name": "ProgressStyleModel",
      "state": {
       "description_width": "initial"
      }
     },
     "73e9b1cc1f7846d18445d6c0de72449c": {
      "model_module": "@jupyter-widgets/controls",
      "model_module_version": "1.5.0",
      "model_name": "FloatProgressModel",
      "state": {
       "bar_style": "danger",
       "description": "  0%",
       "layout": "IPY_MODEL_f4076d064e01412db0a35fcca1da5e16",
       "max": 11,
       "style": "IPY_MODEL_fc412f774cca41f8a1ed2c0b2a7cee10"
      }
     },
     "74bac9b8e96a4b6fb513605cb7b11ab6": {
      "model_module": "@jupyter-widgets/controls",
      "model_module_version": "1.5.0",
      "model_name": "FloatProgressModel",
      "state": {
       "bar_style": "success",
       "description": "100%",
       "layout": "IPY_MODEL_8bae4562f37c43759e84b263ead580f0",
       "max": 6,
       "style": "IPY_MODEL_18b398dc15844567a3a0105f8e7775f9",
       "value": 6
      }
     },
     "757fd1b57053463b8aa7f0c89d76271c": {
      "model_module": "@jupyter-widgets/controls",
      "model_module_version": "1.5.0",
      "model_name": "ProgressStyleModel",
      "state": {
       "description_width": "initial"
      }
     },
     "769512947abf4bc9a9c7c2904a37f954": {
      "model_module": "@jupyter-widgets/base",
      "model_module_version": "1.2.0",
      "model_name": "LayoutModel",
      "state": {}
     },
     "76f819b437764c3dbddfbd1287aef422": {
      "model_module": "@jupyter-widgets/controls",
      "model_module_version": "1.5.0",
      "model_name": "ProgressStyleModel",
      "state": {
       "description_width": "initial"
      }
     },
     "7715d3aeb1d84317b8f77bbfdbd4222e": {
      "model_module": "@jupyter-widgets/base",
      "model_module_version": "1.2.0",
      "model_name": "LayoutModel",
      "state": {}
     },
     "78648d2ddb4e429d9428591eb0cd7f31": {
      "model_module": "@jupyter-widgets/controls",
      "model_module_version": "1.5.0",
      "model_name": "ProgressStyleModel",
      "state": {
       "description_width": "initial"
      }
     },
     "78ace9d84e1143b799de74b956edd2db": {
      "model_module": "@jupyter-widgets/base",
      "model_module_version": "1.2.0",
      "model_name": "LayoutModel",
      "state": {}
     },
     "7912b136a6974417a3dd19ad39c4288b": {
      "model_module": "@jupyter-widgets/controls",
      "model_module_version": "1.5.0",
      "model_name": "FloatProgressModel",
      "state": {
       "bar_style": "success",
       "description": "100%",
       "layout": "IPY_MODEL_ad830b0cd62c4a74b2132e729bd71a13",
       "max": 11,
       "style": "IPY_MODEL_e87b076bb7774dba8ddcc4d6b668ccf2",
       "value": 11
      }
     },
     "7975d5510e804f29b1c26876b21b8303": {
      "model_module": "@jupyter-widgets/controls",
      "model_module_version": "1.5.0",
      "model_name": "DescriptionStyleModel",
      "state": {
       "description_width": ""
      }
     },
     "79d047f2e64f4e19b224888c80e2f519": {
      "model_module": "@jupyter-widgets/controls",
      "model_module_version": "1.5.0",
      "model_name": "HBoxModel",
      "state": {
       "children": [
        "IPY_MODEL_73e9b1cc1f7846d18445d6c0de72449c",
        "IPY_MODEL_eeae11033f0e4c3e94383767b7e03938"
       ],
       "layout": "IPY_MODEL_769512947abf4bc9a9c7c2904a37f954"
      }
     },
     "79f33b2a56ed423a932c47eed35943e8": {
      "model_module": "@jupyter-widgets/controls",
      "model_module_version": "1.5.0",
      "model_name": "HBoxModel",
      "state": {
       "children": [
        "IPY_MODEL_9423e0a826fb416b8a2b6a36c8645c53",
        "IPY_MODEL_4c42efed73c94ec585411ef29719e5b6"
       ],
       "layout": "IPY_MODEL_bd013df96d6349fe8f3b2ca6a2cb71c4"
      }
     },
     "7b074f957e2546fe872f551ca244dee3": {
      "model_module": "@jupyter-widgets/controls",
      "model_module_version": "1.5.0",
      "model_name": "FloatProgressModel",
      "state": {
       "bar_style": "danger",
       "description": " 33%",
       "layout": "IPY_MODEL_44546d3d62134e9784b40e704ceb0eee",
       "max": 6,
       "style": "IPY_MODEL_1563dfe7058f4a05b81360faee7f906b",
       "value": 2
      }
     },
     "7bb62ba4bcf64b02856287a88743c92d": {
      "model_module": "@jupyter-widgets/base",
      "model_module_version": "1.2.0",
      "model_name": "LayoutModel",
      "state": {}
     },
     "7c27625c1da0447ebf7f515dd2131085": {
      "model_module": "@jupyter-widgets/controls",
      "model_module_version": "1.5.0",
      "model_name": "DescriptionStyleModel",
      "state": {
       "description_width": ""
      }
     },
     "7c4d30a89d3940c0b10b35235aebf778": {
      "model_module": "@jupyter-widgets/controls",
      "model_module_version": "1.5.0",
      "model_name": "HTMLModel",
      "state": {
       "layout": "IPY_MODEL_4c7e2bb9bd0e4a7096102719e0740ec5",
       "style": "IPY_MODEL_2ed228efe4064edcb42f94b32cea9038",
       "value": " 2/6 [00:40&lt;01:21, 20.41s/it]"
      }
     },
     "7dc509aaf18843e7a2d016f6fbb307d0": {
      "model_module": "@jupyter-widgets/controls",
      "model_module_version": "1.5.0",
      "model_name": "ProgressStyleModel",
      "state": {
       "description_width": "initial"
      }
     },
     "7e5876eae1bc476ab4b851bcffc4b47f": {
      "model_module": "@jupyter-widgets/controls",
      "model_module_version": "1.5.0",
      "model_name": "FloatProgressModel",
      "state": {
       "bar_style": "success",
       "description": "100%",
       "layout": "IPY_MODEL_2ed93daf7f274183893280825188c4d7",
       "max": 6,
       "style": "IPY_MODEL_1150832b5b644ec8b0811f31012f5760",
       "value": 6
      }
     },
     "7f5e4f8a6a3d4d4fafe55ba135383a73": {
      "model_module": "@jupyter-widgets/controls",
      "model_module_version": "1.5.0",
      "model_name": "FloatProgressModel",
      "state": {
       "bar_style": "success",
       "description": "100%",
       "layout": "IPY_MODEL_cc3fac37137d4bec975fd9fa49f2cd20",
       "max": 11,
       "style": "IPY_MODEL_73e3a39690724bfb983a3b2f09101869",
       "value": 11
      }
     },
     "806d8b1452cd4eb0a8e2923b94a1b0f0": {
      "model_module": "@jupyter-widgets/base",
      "model_module_version": "1.2.0",
      "model_name": "LayoutModel",
      "state": {}
     },
     "80f513c2ef964ff980a0b85d19f9576a": {
      "model_module": "@jupyter-widgets/controls",
      "model_module_version": "1.5.0",
      "model_name": "FloatProgressModel",
      "state": {
       "bar_style": "success",
       "description": "100%",
       "layout": "IPY_MODEL_90ad0b890e9744f7aabc2b7229c02219",
       "max": 6,
       "style": "IPY_MODEL_7dc509aaf18843e7a2d016f6fbb307d0",
       "value": 6
      }
     },
     "81282978584b46218ab01de83ddac2f1": {
      "model_module": "@jupyter-widgets/controls",
      "model_module_version": "1.5.0",
      "model_name": "HBoxModel",
      "state": {
       "children": [
        "IPY_MODEL_a563e966bd5f48f6aac324c20d680882",
        "IPY_MODEL_65e33e0fc0454a6abe0d30ba36abb20d"
       ],
       "layout": "IPY_MODEL_2b333eb29f2b43878ca16a0ed4d1c01e"
      }
     },
     "81adaba3d10b42f09423cc29325c77c6": {
      "model_module": "@jupyter-widgets/controls",
      "model_module_version": "1.5.0",
      "model_name": "ProgressStyleModel",
      "state": {
       "description_width": "initial"
      }
     },
     "81e50df9fb9a4123b5055d606abb3643": {
      "model_module": "@jupyter-widgets/controls",
      "model_module_version": "1.5.0",
      "model_name": "HBoxModel",
      "state": {
       "children": [
        "IPY_MODEL_3e072bc4a8e647fbaf360df5b2108cee",
        "IPY_MODEL_37d5289e6b9a46ee924fe344c7026a62"
       ],
       "layout": "IPY_MODEL_187cbd81c1b54370855b99776113886b"
      }
     },
     "822ca8ab9447458394df8f6905ac1e2f": {
      "model_module": "@jupyter-widgets/controls",
      "model_module_version": "1.5.0",
      "model_name": "DescriptionStyleModel",
      "state": {
       "description_width": ""
      }
     },
     "82422144ac8d413e8b07f96eb047cd2e": {
      "model_module": "@jupyter-widgets/controls",
      "model_module_version": "1.5.0",
      "model_name": "HTMLModel",
      "state": {
       "layout": "IPY_MODEL_0913a7e5a57e4601940d84c4159a164a",
       "style": "IPY_MODEL_d6b1692a8ef743bab58051c20ae21855",
       "value": " 11/11 [00:03&lt;00:00,  3.53it/s]"
      }
     },
     "826ba90d38cb46709d666c4e1c1491f3": {
      "model_module": "@jupyter-widgets/controls",
      "model_module_version": "1.5.0",
      "model_name": "FloatProgressModel",
      "state": {
       "bar_style": "success",
       "description": "100%",
       "layout": "IPY_MODEL_d2e57a1ada07483ca6339c25ac782593",
       "max": 6,
       "style": "IPY_MODEL_42eeead5a9ca451583e6cbaa9681d06c",
       "value": 6
      }
     },
     "82cdcc79d4c24555b57de3e389e8f3bf": {
      "model_module": "@jupyter-widgets/base",
      "model_module_version": "1.2.0",
      "model_name": "LayoutModel",
      "state": {}
     },
     "83a5acb75a0646eeab71f24bcc56caba": {
      "model_module": "@jupyter-widgets/controls",
      "model_module_version": "1.5.0",
      "model_name": "ProgressStyleModel",
      "state": {
       "description_width": "initial"
      }
     },
     "83fadc14283a4fd0b86765ac4e18d4d9": {
      "model_module": "@jupyter-widgets/controls",
      "model_module_version": "1.5.0",
      "model_name": "DescriptionStyleModel",
      "state": {
       "description_width": ""
      }
     },
     "852e65b672bf466bb9f70c4f571c7056": {
      "model_module": "@jupyter-widgets/controls",
      "model_module_version": "1.5.0",
      "model_name": "DescriptionStyleModel",
      "state": {
       "description_width": ""
      }
     },
     "85c7be44a6bf4cc4b714ecb16ab774f5": {
      "model_module": "@jupyter-widgets/base",
      "model_module_version": "1.2.0",
      "model_name": "LayoutModel",
      "state": {}
     },
     "8661b4680cf64d27b87b2c1714b1ca6e": {
      "model_module": "@jupyter-widgets/base",
      "model_module_version": "1.2.0",
      "model_name": "LayoutModel",
      "state": {}
     },
     "879cfeccdc354ff8823e92fbd1a55945": {
      "model_module": "@jupyter-widgets/base",
      "model_module_version": "1.2.0",
      "model_name": "LayoutModel",
      "state": {}
     },
     "887a910a1a1d4350a651a22be36a2174": {
      "model_module": "@jupyter-widgets/base",
      "model_module_version": "1.2.0",
      "model_name": "LayoutModel",
      "state": {}
     },
     "8895740b7c394f05b08873e43d3fbc6e": {
      "model_module": "@jupyter-widgets/controls",
      "model_module_version": "1.5.0",
      "model_name": "FloatProgressModel",
      "state": {
       "bar_style": "success",
       "description": "100%",
       "layout": "IPY_MODEL_48841ee03a0447d09af60b3536cad8bf",
       "max": 11,
       "style": "IPY_MODEL_d2dd192dfe724327a85c2c4df03656b9",
       "value": 11
      }
     },
     "88a611aabbea4663adb3ed0256d74c6d": {
      "model_module": "@jupyter-widgets/controls",
      "model_module_version": "1.5.0",
      "model_name": "DescriptionStyleModel",
      "state": {
       "description_width": ""
      }
     },
     "88c322af3d3547c792597afc7cf6658a": {
      "model_module": "@jupyter-widgets/base",
      "model_module_version": "1.2.0",
      "model_name": "LayoutModel",
      "state": {}
     },
     "8a0a33880e024a8584b7cb25110bf024": {
      "model_module": "@jupyter-widgets/controls",
      "model_module_version": "1.5.0",
      "model_name": "ProgressStyleModel",
      "state": {
       "description_width": "initial"
      }
     },
     "8a1b9aaeec0441d5afcf3337d1d54c1e": {
      "model_module": "@jupyter-widgets/controls",
      "model_module_version": "1.5.0",
      "model_name": "ProgressStyleModel",
      "state": {
       "description_width": "initial"
      }
     },
     "8b314fdaec07453f8a17c9be36a910e0": {
      "model_module": "@jupyter-widgets/controls",
      "model_module_version": "1.5.0",
      "model_name": "ProgressStyleModel",
      "state": {
       "description_width": "initial"
      }
     },
     "8b49dab017774c43a7a4f8c400b4f054": {
      "model_module": "@jupyter-widgets/base",
      "model_module_version": "1.2.0",
      "model_name": "LayoutModel",
      "state": {}
     },
     "8b9e0d4e5c594ac3bc0e72706e2b27a3": {
      "model_module": "@jupyter-widgets/base",
      "model_module_version": "1.2.0",
      "model_name": "LayoutModel",
      "state": {}
     },
     "8bae4562f37c43759e84b263ead580f0": {
      "model_module": "@jupyter-widgets/base",
      "model_module_version": "1.2.0",
      "model_name": "LayoutModel",
      "state": {}
     },
     "8cbb4551608c46e788a412f24460db64": {
      "model_module": "@jupyter-widgets/base",
      "model_module_version": "1.2.0",
      "model_name": "LayoutModel",
      "state": {}
     },
     "8cfa8d6b41fe40a294d6f8b01cfc81e9": {
      "model_module": "@jupyter-widgets/controls",
      "model_module_version": "1.5.0",
      "model_name": "HTMLModel",
      "state": {
       "layout": "IPY_MODEL_4c3788a0c537459b80874406e11ccd6c",
       "style": "IPY_MODEL_4623bf2b0aae4fb49e1f760e671fd3e4",
       "value": " 11/11 [00:35&lt;00:00,  3.21s/it]"
      }
     },
     "8d2263c21c944284b482508624874faa": {
      "model_module": "@jupyter-widgets/controls",
      "model_module_version": "1.5.0",
      "model_name": "FloatProgressModel",
      "state": {
       "bar_style": "success",
       "description": "100%",
       "layout": "IPY_MODEL_8661b4680cf64d27b87b2c1714b1ca6e",
       "max": 11,
       "style": "IPY_MODEL_d1e31353f15144be9051b6d0364e4b22",
       "value": 11
      }
     },
     "8ea70390a8a54e448c1e1e6b09dbda67": {
      "model_module": "@jupyter-widgets/controls",
      "model_module_version": "1.5.0",
      "model_name": "ProgressStyleModel",
      "state": {
       "description_width": "initial"
      }
     },
     "8f1c72d70ed840edb1cc9a8d67cb8ae6": {
      "model_module": "@jupyter-widgets/controls",
      "model_module_version": "1.5.0",
      "model_name": "DescriptionStyleModel",
      "state": {
       "description_width": ""
      }
     },
     "900f3d7cc46642fb96df90ddae1f0685": {
      "model_module": "@jupyter-widgets/base",
      "model_module_version": "1.2.0",
      "model_name": "LayoutModel",
      "state": {}
     },
     "90ad0b890e9744f7aabc2b7229c02219": {
      "model_module": "@jupyter-widgets/base",
      "model_module_version": "1.2.0",
      "model_name": "LayoutModel",
      "state": {}
     },
     "9124cd0de5fd4dc89a7ead3072e0c167": {
      "model_module": "@jupyter-widgets/base",
      "model_module_version": "1.2.0",
      "model_name": "LayoutModel",
      "state": {}
     },
     "918ff2bf1b1d48f888d2a3eec3e3898e": {
      "model_module": "@jupyter-widgets/controls",
      "model_module_version": "1.5.0",
      "model_name": "DescriptionStyleModel",
      "state": {
       "description_width": ""
      }
     },
     "92418326cf3549d696193d5b0a52fe58": {
      "model_module": "@jupyter-widgets/controls",
      "model_module_version": "1.5.0",
      "model_name": "HTMLModel",
      "state": {
       "layout": "IPY_MODEL_322e9c29efe049f2b24f08cdcbde0bb1",
       "style": "IPY_MODEL_dff4a03bb2ae417f9e0f0364b0984ca1",
       "value": " 11/11 [06:31&lt;00:00, 35.55s/it]"
      }
     },
     "929eb82c54304771854cd9824430fe07": {
      "model_module": "@jupyter-widgets/controls",
      "model_module_version": "1.5.0",
      "model_name": "ProgressStyleModel",
      "state": {
       "description_width": "initial"
      }
     },
     "931634a29355402f8e45d77deeb4ce6b": {
      "model_module": "@jupyter-widgets/controls",
      "model_module_version": "1.5.0",
      "model_name": "HBoxModel",
      "state": {
       "children": [
        "IPY_MODEL_7912b136a6974417a3dd19ad39c4288b",
        "IPY_MODEL_9e93504b5cab49b789da4e7cd54a1821"
       ],
       "layout": "IPY_MODEL_900f3d7cc46642fb96df90ddae1f0685"
      }
     },
     "938491e8f01f4b218058cf5db167d09b": {
      "model_module": "@jupyter-widgets/base",
      "model_module_version": "1.2.0",
      "model_name": "LayoutModel",
      "state": {}
     },
     "9423e0a826fb416b8a2b6a36c8645c53": {
      "model_module": "@jupyter-widgets/controls",
      "model_module_version": "1.5.0",
      "model_name": "FloatProgressModel",
      "state": {
       "bar_style": "success",
       "description": "100%",
       "layout": "IPY_MODEL_33a2c544ec39466fa0cfaa951aae5fdc",
       "max": 11,
       "style": "IPY_MODEL_929eb82c54304771854cd9824430fe07",
       "value": 11
      }
     },
     "94b4201e26e649a5a176aa18c77e1386": {
      "model_module": "@jupyter-widgets/controls",
      "model_module_version": "1.5.0",
      "model_name": "HBoxModel",
      "state": {
       "children": [
        "IPY_MODEL_4467f0876fe8419d87f38f79cf29f8f5",
        "IPY_MODEL_e859b31f163742cca5fc8850a077a226"
       ],
       "layout": "IPY_MODEL_6fca2ce1a0924ac38d817e372ee90398"
      }
     },
     "955947f8e8ee4841b649d113132b35a7": {
      "model_module": "@jupyter-widgets/base",
      "model_module_version": "1.2.0",
      "model_name": "LayoutModel",
      "state": {}
     },
     "95e6cfb1296f4ccc9cecf1cd8f42d323": {
      "model_module": "@jupyter-widgets/controls",
      "model_module_version": "1.5.0",
      "model_name": "HBoxModel",
      "state": {
       "children": [
        "IPY_MODEL_2d54cb358be846718aabceffd0edb684",
        "IPY_MODEL_51a5ca0ea81043488bbbf27a056a5d30"
       ],
       "layout": "IPY_MODEL_22413690ae524ab5aba7abead14bfb12"
      }
     },
     "964eecfbecd24c15aa78b54a05585f2d": {
      "model_module": "@jupyter-widgets/controls",
      "model_module_version": "1.5.0",
      "model_name": "DescriptionStyleModel",
      "state": {
       "description_width": ""
      }
     },
     "96a38f23ff244c59aac03f7f54fbe0e2": {
      "model_module": "@jupyter-widgets/controls",
      "model_module_version": "1.5.0",
      "model_name": "ProgressStyleModel",
      "state": {
       "description_width": "initial"
      }
     },
     "97ba31a2479e4c68a5c9a732eff6776c": {
      "model_module": "@jupyter-widgets/controls",
      "model_module_version": "1.5.0",
      "model_name": "HTMLModel",
      "state": {
       "layout": "IPY_MODEL_cfd90e2843af4e3f9fda73c43a6f84b8",
       "style": "IPY_MODEL_8f1c72d70ed840edb1cc9a8d67cb8ae6",
       "value": " 11/11 [00:39&lt;00:00,  3.59s/it]"
      }
     },
     "97be6dfb08b9429eb2b6829c786141da": {
      "model_module": "@jupyter-widgets/controls",
      "model_module_version": "1.5.0",
      "model_name": "FloatProgressModel",
      "state": {
       "bar_style": "success",
       "description": "100%",
       "layout": "IPY_MODEL_1dd68ae5cc294c1e965f2080d823d987",
       "max": 11,
       "style": "IPY_MODEL_054763bc72c245f08c3de084b47f5c95",
       "value": 11
      }
     },
     "97ccffc1b2234bb1ba0614871fbff453": {
      "model_module": "@jupyter-widgets/controls",
      "model_module_version": "1.5.0",
      "model_name": "HBoxModel",
      "state": {
       "children": [
        "IPY_MODEL_40f611cfe0374db2a418c1b4b6441597",
        "IPY_MODEL_82422144ac8d413e8b07f96eb047cd2e"
       ],
       "layout": "IPY_MODEL_d0ff177527604254984e44533f7a8c31"
      }
     },
     "9833bc52a7594e00ba6b172ca6ccdcc2": {
      "model_module": "@jupyter-widgets/base",
      "model_module_version": "1.2.0",
      "model_name": "LayoutModel",
      "state": {}
     },
     "9862a358c2be47649e41e5f6a1585702": {
      "model_module": "@jupyter-widgets/controls",
      "model_module_version": "1.5.0",
      "model_name": "DescriptionStyleModel",
      "state": {
       "description_width": ""
      }
     },
     "987778b6d7d7410a8895cabddfdf1a71": {
      "model_module": "@jupyter-widgets/base",
      "model_module_version": "1.2.0",
      "model_name": "LayoutModel",
      "state": {}
     },
     "98d0924a6c0b468c8d709e4dabf28383": {
      "model_module": "@jupyter-widgets/controls",
      "model_module_version": "1.5.0",
      "model_name": "DescriptionStyleModel",
      "state": {
       "description_width": ""
      }
     },
     "98db8b537fbb4d959b1b5c4e1651697c": {
      "model_module": "@jupyter-widgets/base",
      "model_module_version": "1.2.0",
      "model_name": "LayoutModel",
      "state": {}
     },
     "98ecb3b562c64fb4b1688154878a7883": {
      "model_module": "@jupyter-widgets/controls",
      "model_module_version": "1.5.0",
      "model_name": "HTMLModel",
      "state": {
       "layout": "IPY_MODEL_45e4104d13de40d295e33b50f7a0536b",
       "style": "IPY_MODEL_7975d5510e804f29b1c26876b21b8303",
       "value": " 11/11 [02:57&lt;00:00, 16.17s/it]"
      }
     },
     "9989ca9a4f404d23b323192674925909": {
      "model_module": "@jupyter-widgets/base",
      "model_module_version": "1.2.0",
      "model_name": "LayoutModel",
      "state": {}
     },
     "99b4a0e4b6a2498190ec0eb7a7e6a3c3": {
      "model_module": "@jupyter-widgets/base",
      "model_module_version": "1.2.0",
      "model_name": "LayoutModel",
      "state": {}
     },
     "99dfdf9fc6c448499c6c946802224701": {
      "model_module": "@jupyter-widgets/base",
      "model_module_version": "1.2.0",
      "model_name": "LayoutModel",
      "state": {}
     },
     "9a8266fff4884c8fa9b31a7de9a31d21": {
      "model_module": "@jupyter-widgets/controls",
      "model_module_version": "1.5.0",
      "model_name": "ProgressStyleModel",
      "state": {
       "description_width": "initial"
      }
     },
     "9c09e82419dc45a8aa9ac959884ad867": {
      "model_module": "@jupyter-widgets/base",
      "model_module_version": "1.2.0",
      "model_name": "LayoutModel",
      "state": {}
     },
     "9cf513f7c6454066a4d3cb9e0e80dbb1": {
      "model_module": "@jupyter-widgets/controls",
      "model_module_version": "1.5.0",
      "model_name": "DescriptionStyleModel",
      "state": {
       "description_width": ""
      }
     },
     "9d516d1f8e614235a3312eb2ebd20af9": {
      "model_module": "@jupyter-widgets/base",
      "model_module_version": "1.2.0",
      "model_name": "LayoutModel",
      "state": {}
     },
     "9e93504b5cab49b789da4e7cd54a1821": {
      "model_module": "@jupyter-widgets/controls",
      "model_module_version": "1.5.0",
      "model_name": "HTMLModel",
      "state": {
       "layout": "IPY_MODEL_9c09e82419dc45a8aa9ac959884ad867",
       "style": "IPY_MODEL_308eb8d02f1042d3aae6a9d3b4b4f83c",
       "value": " 11/11 [02:38&lt;00:00, 14.45s/it]"
      }
     },
     "9f27b58649b447f5adb6217c018ea5e6": {
      "model_module": "@jupyter-widgets/controls",
      "model_module_version": "1.5.0",
      "model_name": "DescriptionStyleModel",
      "state": {
       "description_width": ""
      }
     },
     "a030789624924ab99021f8c921e47022": {
      "model_module": "@jupyter-widgets/base",
      "model_module_version": "1.2.0",
      "model_name": "LayoutModel",
      "state": {}
     },
     "a1bcaf370fdb4b7b9176a3c3bd7cc72d": {
      "model_module": "@jupyter-widgets/base",
      "model_module_version": "1.2.0",
      "model_name": "LayoutModel",
      "state": {}
     },
     "a2b64df6263e4051a659e5505fb048c8": {
      "model_module": "@jupyter-widgets/controls",
      "model_module_version": "1.5.0",
      "model_name": "DescriptionStyleModel",
      "state": {
       "description_width": ""
      }
     },
     "a47d0094b37f45a0aa05b4e1b8195aff": {
      "model_module": "@jupyter-widgets/controls",
      "model_module_version": "1.5.0",
      "model_name": "HBoxModel",
      "state": {
       "children": [
        "IPY_MODEL_c92b9a5072e84169b4d824eb9c52c78a",
        "IPY_MODEL_f26ab359ed694a42be61ca9964cec3aa"
       ],
       "layout": "IPY_MODEL_f9970d8fd94f4700b6a0bb2b3110814a"
      }
     },
     "a52145a4e8874ca0b2dd4907e3127abd": {
      "model_module": "@jupyter-widgets/controls",
      "model_module_version": "1.5.0",
      "model_name": "DescriptionStyleModel",
      "state": {
       "description_width": ""
      }
     },
     "a53e4dd5a2da4083abcffeda03b67197": {
      "model_module": "@jupyter-widgets/controls",
      "model_module_version": "1.5.0",
      "model_name": "HTMLModel",
      "state": {
       "layout": "IPY_MODEL_50f0c153a4704792b3b9840ec2d77013",
       "style": "IPY_MODEL_d85d4d15a098440a8363f527d940edbc",
       "value": " 6/6 [00:24&lt;00:00,  4.02s/it]"
      }
     },
     "a563e966bd5f48f6aac324c20d680882": {
      "model_module": "@jupyter-widgets/controls",
      "model_module_version": "1.5.0",
      "model_name": "FloatProgressModel",
      "state": {
       "bar_style": "success",
       "description": "100%",
       "layout": "IPY_MODEL_c62c39f1f651442e8337e8cdbf6470d1",
       "max": 11,
       "style": "IPY_MODEL_8b314fdaec07453f8a17c9be36a910e0",
       "value": 11
      }
     },
     "a67f1d8c89534eac970313af3c4350b7": {
      "model_module": "@jupyter-widgets/controls",
      "model_module_version": "1.5.0",
      "model_name": "ProgressStyleModel",
      "state": {
       "description_width": "initial"
      }
     },
     "a738bc6a3bae439db4120b627562ebd2": {
      "model_module": "@jupyter-widgets/base",
      "model_module_version": "1.2.0",
      "model_name": "LayoutModel",
      "state": {}
     },
     "a814d19eaec54863ab131e08c71c4c5e": {
      "model_module": "@jupyter-widgets/base",
      "model_module_version": "1.2.0",
      "model_name": "LayoutModel",
      "state": {}
     },
     "a8e59f0474d447e8aea7757d789f7d62": {
      "model_module": "@jupyter-widgets/controls",
      "model_module_version": "1.5.0",
      "model_name": "HTMLModel",
      "state": {
       "layout": "IPY_MODEL_e541888a24384fe1b5f9296a9b7d3d52",
       "style": "IPY_MODEL_7c27625c1da0447ebf7f515dd2131085",
       "value": " 6/6 [00:55&lt;00:00,  9.33s/it]"
      }
     },
     "a9b1690ae8494900be1cc202a9c2554c": {
      "model_module": "@jupyter-widgets/controls",
      "model_module_version": "1.5.0",
      "model_name": "HBoxModel",
      "state": {
       "children": [
        "IPY_MODEL_97be6dfb08b9429eb2b6829c786141da",
        "IPY_MODEL_4a8b8327a7ca4d5aaccd4dc59fbfa1d7"
       ],
       "layout": "IPY_MODEL_058782bd8b6045ce8b98e5be42b5f5e0"
      }
     },
     "aa759735c4844f719252cadbd56ce786": {
      "model_module": "@jupyter-widgets/base",
      "model_module_version": "1.2.0",
      "model_name": "LayoutModel",
      "state": {}
     },
     "ab11a6ae170f4b4c80bafa288d9dd33f": {
      "model_module": "@jupyter-widgets/base",
      "model_module_version": "1.2.0",
      "model_name": "LayoutModel",
      "state": {}
     },
     "ab6b06ef3ff54b85955c740d8507514a": {
      "model_module": "@jupyter-widgets/base",
      "model_module_version": "1.2.0",
      "model_name": "LayoutModel",
      "state": {}
     },
     "ab92abda7b6d486a8219840d0dcc29f6": {
      "model_module": "@jupyter-widgets/base",
      "model_module_version": "1.2.0",
      "model_name": "LayoutModel",
      "state": {}
     },
     "abc65406eef6452e8b99bd19482de98e": {
      "model_module": "@jupyter-widgets/controls",
      "model_module_version": "1.5.0",
      "model_name": "HTMLModel",
      "state": {
       "layout": "IPY_MODEL_2cfb3774b73341aeb398e01186e10e78",
       "style": "IPY_MODEL_c01e438d8d1f45b1b141674d3e295a4f",
       "value": " 11/11 [00:38&lt;00:00,  3.48s/it]"
      }
     },
     "ac0152a163524668ba7ba8df994207e9": {
      "model_module": "@jupyter-widgets/controls",
      "model_module_version": "1.5.0",
      "model_name": "FloatProgressModel",
      "state": {
       "bar_style": "success",
       "description": "100%",
       "layout": "IPY_MODEL_56369377d2684faabae70865bd761d13",
       "max": 11,
       "style": "IPY_MODEL_f86078e94c7448758aed4f46e59e8f99",
       "value": 11
      }
     },
     "ac06e294b28046d0b4b2118f5a67e199": {
      "model_module": "@jupyter-widgets/controls",
      "model_module_version": "1.5.0",
      "model_name": "ProgressStyleModel",
      "state": {
       "description_width": "initial"
      }
     },
     "ac9eb7f6df3a4b3d8db0a28e87b11246": {
      "model_module": "@jupyter-widgets/base",
      "model_module_version": "1.2.0",
      "model_name": "LayoutModel",
      "state": {}
     },
     "ad4b2d5333b94c688069e56bb6f85f12": {
      "model_module": "@jupyter-widgets/controls",
      "model_module_version": "1.5.0",
      "model_name": "FloatProgressModel",
      "state": {
       "bar_style": "success",
       "description": "100%",
       "layout": "IPY_MODEL_21cb42dcfff9474d9ef5e96e52a4397d",
       "max": 11,
       "style": "IPY_MODEL_0bd20b4485be4120b7ea4f99e15e2715",
       "value": 11
      }
     },
     "ad830b0cd62c4a74b2132e729bd71a13": {
      "model_module": "@jupyter-widgets/base",
      "model_module_version": "1.2.0",
      "model_name": "LayoutModel",
      "state": {}
     },
     "ad9d07dcdd1f4e64b1de7c1e4a9b9cae": {
      "model_module": "@jupyter-widgets/controls",
      "model_module_version": "1.5.0",
      "model_name": "ProgressStyleModel",
      "state": {
       "description_width": "initial"
      }
     },
     "ada1e999bd0a409daae54139c305a6bf": {
      "model_module": "@jupyter-widgets/base",
      "model_module_version": "1.2.0",
      "model_name": "LayoutModel",
      "state": {}
     },
     "af8a4b093c37491da321c23bc55b9cca": {
      "model_module": "@jupyter-widgets/base",
      "model_module_version": "1.2.0",
      "model_name": "LayoutModel",
      "state": {}
     },
     "b04f40b3c63446e39a2cbb608b58489d": {
      "model_module": "@jupyter-widgets/controls",
      "model_module_version": "1.5.0",
      "model_name": "DescriptionStyleModel",
      "state": {
       "description_width": ""
      }
     },
     "b1649a3446bf4b66b1d069a8779c22c9": {
      "model_module": "@jupyter-widgets/base",
      "model_module_version": "1.2.0",
      "model_name": "LayoutModel",
      "state": {}
     },
     "b297aa6303654a3092fd035c75c6084f": {
      "model_module": "@jupyter-widgets/controls",
      "model_module_version": "1.5.0",
      "model_name": "HBoxModel",
      "state": {
       "children": [
        "IPY_MODEL_208a99072b3a4261bf2cf91cb336f563",
        "IPY_MODEL_8cfa8d6b41fe40a294d6f8b01cfc81e9"
       ],
       "layout": "IPY_MODEL_ab6b06ef3ff54b85955c740d8507514a"
      }
     },
     "b3184c65eaa64dd7a3d25aab8ce11635": {
      "model_module": "@jupyter-widgets/base",
      "model_module_version": "1.2.0",
      "model_name": "LayoutModel",
      "state": {}
     },
     "b32d7e6f84ff409d818adc2fb3ced510": {
      "model_module": "@jupyter-widgets/controls",
      "model_module_version": "1.5.0",
      "model_name": "HBoxModel",
      "state": {
       "children": [
        "IPY_MODEL_5b52f4b030c8448c99b00f72b82e6e12",
        "IPY_MODEL_98ecb3b562c64fb4b1688154878a7883"
       ],
       "layout": "IPY_MODEL_8b49dab017774c43a7a4f8c400b4f054"
      }
     },
     "b3a55b028310480585d3f3f55808e680": {
      "model_module": "@jupyter-widgets/controls",
      "model_module_version": "1.5.0",
      "model_name": "DescriptionStyleModel",
      "state": {
       "description_width": ""
      }
     },
     "b3bd9438d4364efea54c2e9daccdc0b1": {
      "model_module": "@jupyter-widgets/controls",
      "model_module_version": "1.5.0",
      "model_name": "HBoxModel",
      "state": {
       "children": [
        "IPY_MODEL_effa80f369af432693bb133a79923060",
        "IPY_MODEL_7c4d30a89d3940c0b10b35235aebf778"
       ],
       "layout": "IPY_MODEL_0df79953c30a484a9e1b347d1ab79b6c"
      }
     },
     "b4262851d390469a817ddecc83c05b97": {
      "model_module": "@jupyter-widgets/base",
      "model_module_version": "1.2.0",
      "model_name": "LayoutModel",
      "state": {}
     },
     "b45e440ec3d949378f308d3dfe9bed44": {
      "model_module": "@jupyter-widgets/base",
      "model_module_version": "1.2.0",
      "model_name": "LayoutModel",
      "state": {}
     },
     "b48f73cb0ef84626aa7e8ca31f5b2d57": {
      "model_module": "@jupyter-widgets/base",
      "model_module_version": "1.2.0",
      "model_name": "LayoutModel",
      "state": {}
     },
     "b4b363c26fd34dd5971182a3897e8312": {
      "model_module": "@jupyter-widgets/base",
      "model_module_version": "1.2.0",
      "model_name": "LayoutModel",
      "state": {}
     },
     "b647b9f5bc47471ea2180071edc1c46e": {
      "model_module": "@jupyter-widgets/base",
      "model_module_version": "1.2.0",
      "model_name": "LayoutModel",
      "state": {}
     },
     "b793d87469dc4ac9aa371a4c07a074c0": {
      "model_module": "@jupyter-widgets/base",
      "model_module_version": "1.2.0",
      "model_name": "LayoutModel",
      "state": {}
     },
     "b7b96fd3ae0a451d873ef0ac6a3748a2": {
      "model_module": "@jupyter-widgets/controls",
      "model_module_version": "1.5.0",
      "model_name": "HTMLModel",
      "state": {
       "layout": "IPY_MODEL_a814d19eaec54863ab131e08c71c4c5e",
       "style": "IPY_MODEL_6c434faa226d46fa850ea8318a9b2bca",
       "value": " 11/11 [01:33&lt;00:00,  8.49s/it]"
      }
     },
     "b7e2faa712c34aa1a8cbe837667bfb09": {
      "model_module": "@jupyter-widgets/controls",
      "model_module_version": "1.5.0",
      "model_name": "HBoxModel",
      "state": {
       "children": [
        "IPY_MODEL_ca7edb1fef714c5e8ac81d022fcff823",
        "IPY_MODEL_d9aa1c23b22841b39f0e7154a4241308"
       ],
       "layout": "IPY_MODEL_b4b363c26fd34dd5971182a3897e8312"
      }
     },
     "b803b665375744fabc6f1fbd9ca89df9": {
      "model_module": "@jupyter-widgets/base",
      "model_module_version": "1.2.0",
      "model_name": "LayoutModel",
      "state": {}
     },
     "b851ac34cc79474c9bb4f6d584106d7f": {
      "model_module": "@jupyter-widgets/base",
      "model_module_version": "1.2.0",
      "model_name": "LayoutModel",
      "state": {}
     },
     "b9d2c9bc9537409897d8791246cb8a9b": {
      "model_module": "@jupyter-widgets/controls",
      "model_module_version": "1.5.0",
      "model_name": "HBoxModel",
      "state": {
       "children": [
        "IPY_MODEL_d08c9fa74ff144b6b6a133fc6fe9ee5e",
        "IPY_MODEL_ea6e884634cc4651bae911f03827cd12"
       ],
       "layout": "IPY_MODEL_feea9290fb8b4a9d98e389f4073779ed"
      }
     },
     "bbb68ed8a9c64c85914b20d7d6c989ed": {
      "model_module": "@jupyter-widgets/base",
      "model_module_version": "1.2.0",
      "model_name": "LayoutModel",
      "state": {}
     },
     "bbf139ad423447ee85f4bfd57c762567": {
      "model_module": "@jupyter-widgets/controls",
      "model_module_version": "1.5.0",
      "model_name": "DescriptionStyleModel",
      "state": {
       "description_width": ""
      }
     },
     "bd013df96d6349fe8f3b2ca6a2cb71c4": {
      "model_module": "@jupyter-widgets/base",
      "model_module_version": "1.2.0",
      "model_name": "LayoutModel",
      "state": {}
     },
     "bdde4026230346379ae86ab1b4e2d5db": {
      "model_module": "@jupyter-widgets/controls",
      "model_module_version": "1.5.0",
      "model_name": "FloatProgressModel",
      "state": {
       "bar_style": "success",
       "description": "100%",
       "layout": "IPY_MODEL_88c322af3d3547c792597afc7cf6658a",
       "max": 11,
       "style": "IPY_MODEL_41b8692e2fad47bb95ae8adeda5bc044",
       "value": 11
      }
     },
     "bdef07a083e04a209d9f6d88dbe49a14": {
      "model_module": "@jupyter-widgets/controls",
      "model_module_version": "1.5.0",
      "model_name": "FloatProgressModel",
      "state": {
       "bar_style": "success",
       "description": "100%",
       "layout": "IPY_MODEL_054cfa80c3cc4812870f5e9137c53c0b",
       "max": 11,
       "style": "IPY_MODEL_f4f48e54e5034aa887a78488cd590b6d",
       "value": 11
      }
     },
     "beffce3f28804ea4a3abda9c011643d8": {
      "model_module": "@jupyter-widgets/base",
      "model_module_version": "1.2.0",
      "model_name": "LayoutModel",
      "state": {}
     },
     "bf1faa52fb3d46039ba8210fddd3ead1": {
      "model_module": "@jupyter-widgets/base",
      "model_module_version": "1.2.0",
      "model_name": "LayoutModel",
      "state": {}
     },
     "c01e438d8d1f45b1b141674d3e295a4f": {
      "model_module": "@jupyter-widgets/controls",
      "model_module_version": "1.5.0",
      "model_name": "DescriptionStyleModel",
      "state": {
       "description_width": ""
      }
     },
     "c09a18512a9748b1aea96f0ed2d81353": {
      "model_module": "@jupyter-widgets/controls",
      "model_module_version": "1.5.0",
      "model_name": "FloatProgressModel",
      "state": {
       "bar_style": "success",
       "description": "100%",
       "layout": "IPY_MODEL_7010215cbd894e9aa706dc855af8d978",
       "max": 11,
       "style": "IPY_MODEL_9a8266fff4884c8fa9b31a7de9a31d21",
       "value": 11
      }
     },
     "c16aa199fc7c43e7949e968f6b4c13f6": {
      "model_module": "@jupyter-widgets/controls",
      "model_module_version": "1.5.0",
      "model_name": "HTMLModel",
      "state": {
       "layout": "IPY_MODEL_4ad661d7066b4e5da652b79b76a67194",
       "style": "IPY_MODEL_9f27b58649b447f5adb6217c018ea5e6",
       "value": " 6/6 [00:33&lt;00:00,  5.52s/it]"
      }
     },
     "c18d4a65309445199eaf47e2113f8c65": {
      "model_module": "@jupyter-widgets/controls",
      "model_module_version": "1.5.0",
      "model_name": "DescriptionStyleModel",
      "state": {
       "description_width": ""
      }
     },
     "c49c9b5fc9f540809fc4e0d1f93248c0": {
      "model_module": "@jupyter-widgets/controls",
      "model_module_version": "1.5.0",
      "model_name": "FloatProgressModel",
      "state": {
       "bar_style": "danger",
       "description": " 33%",
       "layout": "IPY_MODEL_e5fdd18254784c0fa11eaf070071ff49",
       "max": 6,
       "style": "IPY_MODEL_96a38f23ff244c59aac03f7f54fbe0e2",
       "value": 2
      }
     },
     "c55e787433cc4ac9829530b063fc80cf": {
      "model_module": "@jupyter-widgets/controls",
      "model_module_version": "1.5.0",
      "model_name": "HTMLModel",
      "state": {
       "layout": "IPY_MODEL_0340c1624eda4879be541677cd588d33",
       "style": "IPY_MODEL_f2152d1f92154fc9bc51aaaf08c53470",
       "value": " 0/6 [00:46&lt;?, ?it/s]"
      }
     },
     "c56125f1b168428e9b17171ebfcdf99d": {
      "model_module": "@jupyter-widgets/controls",
      "model_module_version": "1.5.0",
      "model_name": "HTMLModel",
      "state": {
       "layout": "IPY_MODEL_99b4a0e4b6a2498190ec0eb7a7e6a3c3",
       "style": "IPY_MODEL_a52145a4e8874ca0b2dd4907e3127abd",
       "value": " 2/6 [01:51&lt;03:42, 55.74s/it]"
      }
     },
     "c62c39f1f651442e8337e8cdbf6470d1": {
      "model_module": "@jupyter-widgets/base",
      "model_module_version": "1.2.0",
      "model_name": "LayoutModel",
      "state": {}
     },
     "c92b9a5072e84169b4d824eb9c52c78a": {
      "model_module": "@jupyter-widgets/controls",
      "model_module_version": "1.5.0",
      "model_name": "FloatProgressModel",
      "state": {
       "bar_style": "success",
       "description": "100%",
       "layout": "IPY_MODEL_78ace9d84e1143b799de74b956edd2db",
       "max": 6,
       "style": "IPY_MODEL_81adaba3d10b42f09423cc29325c77c6",
       "value": 6
      }
     },
     "c9960be52b68486a90456918cfbcb02a": {
      "model_module": "@jupyter-widgets/controls",
      "model_module_version": "1.5.0",
      "model_name": "ProgressStyleModel",
      "state": {
       "description_width": "initial"
      }
     },
     "ca7edb1fef714c5e8ac81d022fcff823": {
      "model_module": "@jupyter-widgets/controls",
      "model_module_version": "1.5.0",
      "model_name": "FloatProgressModel",
      "state": {
       "bar_style": "success",
       "description": "100%",
       "layout": "IPY_MODEL_d984ce1950c243b9bb35c8a051d9842f",
       "max": 11,
       "style": "IPY_MODEL_59002569cbb5477d8407ddb179738a03",
       "value": 11
      }
     },
     "cbacb787087f490b8efa56d1480f5d18": {
      "model_module": "@jupyter-widgets/controls",
      "model_module_version": "1.5.0",
      "model_name": "HBoxModel",
      "state": {
       "children": [
        "IPY_MODEL_d1cf31283fb4476e915a1812d95b1d22",
        "IPY_MODEL_094a738a24a64ebda3f068ba824c3d54"
       ],
       "layout": "IPY_MODEL_8b9e0d4e5c594ac3bc0e72706e2b27a3"
      }
     },
     "cc3fac37137d4bec975fd9fa49f2cd20": {
      "model_module": "@jupyter-widgets/base",
      "model_module_version": "1.2.0",
      "model_name": "LayoutModel",
      "state": {}
     },
     "cc9cda41c20544aeba825a128e579962": {
      "model_module": "@jupyter-widgets/controls",
      "model_module_version": "1.5.0",
      "model_name": "HBoxModel",
      "state": {
       "children": [
        "IPY_MODEL_2ffdfbce267a45c18773554185f903ca",
        "IPY_MODEL_3e9327cda74e4fa89a03da8a5a6f19da"
       ],
       "layout": "IPY_MODEL_879cfeccdc354ff8823e92fbd1a55945"
      }
     },
     "cd2d428cd9644ae9b726c4310711f0b1": {
      "model_module": "@jupyter-widgets/controls",
      "model_module_version": "1.5.0",
      "model_name": "DescriptionStyleModel",
      "state": {
       "description_width": ""
      }
     },
     "cd4b2fbe602a472ebef78089667d3f91": {
      "model_module": "@jupyter-widgets/base",
      "model_module_version": "1.2.0",
      "model_name": "LayoutModel",
      "state": {}
     },
     "cdcfbcad6da64c0d89166ae7d16b5615": {
      "model_module": "@jupyter-widgets/controls",
      "model_module_version": "1.5.0",
      "model_name": "FloatProgressModel",
      "state": {
       "bar_style": "success",
       "description": "100%",
       "layout": "IPY_MODEL_bbb68ed8a9c64c85914b20d7d6c989ed",
       "max": 11,
       "style": "IPY_MODEL_030c867148d940cca918265ab1c4fc36",
       "value": 11
      }
     },
     "cdf6f034037d44cab3a27e1e11e3b9b8": {
      "model_module": "@jupyter-widgets/controls",
      "model_module_version": "1.5.0",
      "model_name": "HBoxModel",
      "state": {
       "children": [
        "IPY_MODEL_166455f3946d4a06a4810037164bb8a8",
        "IPY_MODEL_fa79a99be9264861add9ef8d0daf9129"
       ],
       "layout": "IPY_MODEL_98db8b537fbb4d959b1b5c4e1651697c"
      }
     },
     "ce6f871e2b1a47bcbd2eadfe1af348e7": {
      "model_module": "@jupyter-widgets/controls",
      "model_module_version": "1.5.0",
      "model_name": "HTMLModel",
      "state": {
       "layout": "IPY_MODEL_ddacf929f3674eca826f45c741425e54",
       "style": "IPY_MODEL_05ad6f8b02934fcdae5ea897470d7969",
       "value": " 0/6 [00:57&lt;?, ?it/s]"
      }
     },
     "cfc3d517732443578184233cd8cd9bdd": {
      "model_module": "@jupyter-widgets/controls",
      "model_module_version": "1.5.0",
      "model_name": "HTMLModel",
      "state": {
       "layout": "IPY_MODEL_af8a4b093c37491da321c23bc55b9cca",
       "style": "IPY_MODEL_83fadc14283a4fd0b86765ac4e18d4d9",
       "value": " 11/11 [01:05&lt;00:00,  5.92s/it]"
      }
     },
     "cfd90e2843af4e3f9fda73c43a6f84b8": {
      "model_module": "@jupyter-widgets/base",
      "model_module_version": "1.2.0",
      "model_name": "LayoutModel",
      "state": {}
     },
     "d08c9fa74ff144b6b6a133fc6fe9ee5e": {
      "model_module": "@jupyter-widgets/controls",
      "model_module_version": "1.5.0",
      "model_name": "FloatProgressModel",
      "state": {
       "bar_style": "success",
       "description": "100%",
       "layout": "IPY_MODEL_e6e3486bbbcc458c94dfcd65bef12330",
       "max": 11,
       "style": "IPY_MODEL_8ea70390a8a54e448c1e1e6b09dbda67",
       "value": 11
      }
     },
     "d0e77dd67a5048aba98409bf71b7938a": {
      "model_module": "@jupyter-widgets/controls",
      "model_module_version": "1.5.0",
      "model_name": "HBoxModel",
      "state": {
       "children": [
        "IPY_MODEL_fdc2781fc0c346d7b0bd829853720e44",
        "IPY_MODEL_ce6f871e2b1a47bcbd2eadfe1af348e7"
       ],
       "layout": "IPY_MODEL_b803b665375744fabc6f1fbd9ca89df9"
      }
     },
     "d0ff177527604254984e44533f7a8c31": {
      "model_module": "@jupyter-widgets/base",
      "model_module_version": "1.2.0",
      "model_name": "LayoutModel",
      "state": {}
     },
     "d1030986e5cd440ebb6453adf9ab5c74": {
      "model_module": "@jupyter-widgets/controls",
      "model_module_version": "1.5.0",
      "model_name": "DescriptionStyleModel",
      "state": {
       "description_width": ""
      }
     },
     "d1cf31283fb4476e915a1812d95b1d22": {
      "model_module": "@jupyter-widgets/controls",
      "model_module_version": "1.5.0",
      "model_name": "FloatProgressModel",
      "state": {
       "bar_style": "success",
       "description": "100%",
       "layout": "IPY_MODEL_db7f10a7d52444d78fcadd9a831c2fbe",
       "max": 11,
       "style": "IPY_MODEL_76f819b437764c3dbddfbd1287aef422",
       "value": 11
      }
     },
     "d1e31353f15144be9051b6d0364e4b22": {
      "model_module": "@jupyter-widgets/controls",
      "model_module_version": "1.5.0",
      "model_name": "ProgressStyleModel",
      "state": {
       "description_width": "initial"
      }
     },
     "d2dd192dfe724327a85c2c4df03656b9": {
      "model_module": "@jupyter-widgets/controls",
      "model_module_version": "1.5.0",
      "model_name": "ProgressStyleModel",
      "state": {
       "description_width": "initial"
      }
     },
     "d2e57a1ada07483ca6339c25ac782593": {
      "model_module": "@jupyter-widgets/base",
      "model_module_version": "1.2.0",
      "model_name": "LayoutModel",
      "state": {}
     },
     "d4961d4bfcf944508f72cfa0d1832094": {
      "model_module": "@jupyter-widgets/controls",
      "model_module_version": "1.5.0",
      "model_name": "HBoxModel",
      "state": {
       "children": [
        "IPY_MODEL_24fd956cc0d546ea9836374724d0cf3e",
        "IPY_MODEL_3f73e13ddc464c54a99704cbc1f6ef43"
       ],
       "layout": "IPY_MODEL_fd39963f8dd1431e8fdacc20f6963173"
      }
     },
     "d652744f0661483fbb383874a2a7daee": {
      "model_module": "@jupyter-widgets/base",
      "model_module_version": "1.2.0",
      "model_name": "LayoutModel",
      "state": {}
     },
     "d6b1692a8ef743bab58051c20ae21855": {
      "model_module": "@jupyter-widgets/controls",
      "model_module_version": "1.5.0",
      "model_name": "DescriptionStyleModel",
      "state": {
       "description_width": ""
      }
     },
     "d6c545d8a1a245b68736feac99b47486": {
      "model_module": "@jupyter-widgets/base",
      "model_module_version": "1.2.0",
      "model_name": "LayoutModel",
      "state": {}
     },
     "d708586c0a7a4914b5d81cdd8f63de8f": {
      "model_module": "@jupyter-widgets/controls",
      "model_module_version": "1.5.0",
      "model_name": "HTMLModel",
      "state": {
       "layout": "IPY_MODEL_433ee8883bdc4c6780a38786751bbef5",
       "style": "IPY_MODEL_f3b26b3cc4ac4d4fb3cc890663050ec3",
       "value": " 11/11 [02:36&lt;00:00, 14.27s/it]"
      }
     },
     "d785329f7ab647569b34b4c55e2b9db3": {
      "model_module": "@jupyter-widgets/controls",
      "model_module_version": "1.5.0",
      "model_name": "HTMLModel",
      "state": {
       "layout": "IPY_MODEL_d6c545d8a1a245b68736feac99b47486",
       "style": "IPY_MODEL_3ed2c005953d4c75b0932a1cea2bdec6",
       "value": " 4/11 [00:08&lt;00:15,  2.23s/it]"
      }
     },
     "d7f7a0630d774430be29fb9ca5438f46": {
      "model_module": "@jupyter-widgets/controls",
      "model_module_version": "1.5.0",
      "model_name": "FloatProgressModel",
      "state": {
       "bar_style": "success",
       "description": "100%",
       "layout": "IPY_MODEL_084202db7be2454691a2b99de4008e87",
       "max": 6,
       "style": "IPY_MODEL_f6f50a0a0be945148d9eafd058034572",
       "value": 6
      }
     },
     "d85d4d15a098440a8363f527d940edbc": {
      "model_module": "@jupyter-widgets/controls",
      "model_module_version": "1.5.0",
      "model_name": "DescriptionStyleModel",
      "state": {
       "description_width": ""
      }
     },
     "d984ce1950c243b9bb35c8a051d9842f": {
      "model_module": "@jupyter-widgets/base",
      "model_module_version": "1.2.0",
      "model_name": "LayoutModel",
      "state": {}
     },
     "d9aa1c23b22841b39f0e7154a4241308": {
      "model_module": "@jupyter-widgets/controls",
      "model_module_version": "1.5.0",
      "model_name": "HTMLModel",
      "state": {
       "layout": "IPY_MODEL_ab92abda7b6d486a8219840d0dcc29f6",
       "style": "IPY_MODEL_98d0924a6c0b468c8d709e4dabf28383",
       "value": " 11/11 [00:11&lt;00:00,  1.09s/it]"
      }
     },
     "da16a3a737404b30a4a64dfe3e39afdd": {
      "model_module": "@jupyter-widgets/controls",
      "model_module_version": "1.5.0",
      "model_name": "DescriptionStyleModel",
      "state": {
       "description_width": ""
      }
     },
     "da5802fa4cc04a39916912be8413608b": {
      "model_module": "@jupyter-widgets/base",
      "model_module_version": "1.2.0",
      "model_name": "LayoutModel",
      "state": {}
     },
     "db7f10a7d52444d78fcadd9a831c2fbe": {
      "model_module": "@jupyter-widgets/base",
      "model_module_version": "1.2.0",
      "model_name": "LayoutModel",
      "state": {}
     },
     "dc36c32bf7c5414da44e5770d3f09a1c": {
      "model_module": "@jupyter-widgets/controls",
      "model_module_version": "1.5.0",
      "model_name": "ProgressStyleModel",
      "state": {
       "description_width": "initial"
      }
     },
     "ddacf929f3674eca826f45c741425e54": {
      "model_module": "@jupyter-widgets/base",
      "model_module_version": "1.2.0",
      "model_name": "LayoutModel",
      "state": {}
     },
     "df925131c3de4d00877c523915647484": {
      "model_module": "@jupyter-widgets/controls",
      "model_module_version": "1.5.0",
      "model_name": "HBoxModel",
      "state": {
       "children": [
        "IPY_MODEL_f3205114ab0d4e83ab7917c1f3a21db8",
        "IPY_MODEL_17ea83cc9a98448593ea813060ccd67a"
       ],
       "layout": "IPY_MODEL_ff31d49511fe4a07a0331c350944c922"
      }
     },
     "dff4a03bb2ae417f9e0f0364b0984ca1": {
      "model_module": "@jupyter-widgets/controls",
      "model_module_version": "1.5.0",
      "model_name": "DescriptionStyleModel",
      "state": {
       "description_width": ""
      }
     },
     "e08eda84e597420299dca3417980976b": {
      "model_module": "@jupyter-widgets/controls",
      "model_module_version": "1.5.0",
      "model_name": "DescriptionStyleModel",
      "state": {
       "description_width": ""
      }
     },
     "e10f6971ec4f4858aad28407e45c11cc": {
      "model_module": "@jupyter-widgets/controls",
      "model_module_version": "1.5.0",
      "model_name": "HBoxModel",
      "state": {
       "children": [
        "IPY_MODEL_f5b9f28fc0ff4fdf883bd08b766d06bb",
        "IPY_MODEL_abc65406eef6452e8b99bd19482de98e"
       ],
       "layout": "IPY_MODEL_9989ca9a4f404d23b323192674925909"
      }
     },
     "e2a64df72e4b4916aec86fc0762fbfd9": {
      "model_module": "@jupyter-widgets/controls",
      "model_module_version": "1.5.0",
      "model_name": "HBoxModel",
      "state": {
       "children": [
        "IPY_MODEL_fe97fbbe4a6845cdb3f16e4f3f4aa6f8",
        "IPY_MODEL_cfc3d517732443578184233cd8cd9bdd"
       ],
       "layout": "IPY_MODEL_da5802fa4cc04a39916912be8413608b"
      }
     },
     "e35c18c057724440b57286a2c1516a71": {
      "model_module": "@jupyter-widgets/base",
      "model_module_version": "1.2.0",
      "model_name": "LayoutModel",
      "state": {}
     },
     "e3c8269ec7124c169c651a0442166197": {
      "model_module": "@jupyter-widgets/base",
      "model_module_version": "1.2.0",
      "model_name": "LayoutModel",
      "state": {}
     },
     "e4ee1c015b174357adb0d6920e0e3d68": {
      "model_module": "@jupyter-widgets/controls",
      "model_module_version": "1.5.0",
      "model_name": "FloatProgressModel",
      "state": {
       "bar_style": "success",
       "description": "100%",
       "layout": "IPY_MODEL_b45e440ec3d949378f308d3dfe9bed44",
       "max": 6,
       "style": "IPY_MODEL_eaf5f10ec5854024836f164459b9c3e1",
       "value": 6
      }
     },
     "e541888a24384fe1b5f9296a9b7d3d52": {
      "model_module": "@jupyter-widgets/base",
      "model_module_version": "1.2.0",
      "model_name": "LayoutModel",
      "state": {}
     },
     "e5fdd18254784c0fa11eaf070071ff49": {
      "model_module": "@jupyter-widgets/base",
      "model_module_version": "1.2.0",
      "model_name": "LayoutModel",
      "state": {}
     },
     "e6568925063d43a7bddebfe514b56ca4": {
      "model_module": "@jupyter-widgets/controls",
      "model_module_version": "1.5.0",
      "model_name": "HBoxModel",
      "state": {
       "children": [
        "IPY_MODEL_8895740b7c394f05b08873e43d3fbc6e",
        "IPY_MODEL_d708586c0a7a4914b5d81cdd8f63de8f"
       ],
       "layout": "IPY_MODEL_245e7fbfc11e49e2a7a0136005a0879f"
      }
     },
     "e6e3486bbbcc458c94dfcd65bef12330": {
      "model_module": "@jupyter-widgets/base",
      "model_module_version": "1.2.0",
      "model_name": "LayoutModel",
      "state": {}
     },
     "e75217563d534841ae0bcaabf5619981": {
      "model_module": "@jupyter-widgets/controls",
      "model_module_version": "1.5.0",
      "model_name": "HTMLModel",
      "state": {
       "layout": "IPY_MODEL_04a563794e194922bf655df3e759a406",
       "style": "IPY_MODEL_cd2d428cd9644ae9b726c4310711f0b1",
       "value": " 2/6 [00:36&lt;01:13, 18.38s/it]"
      }
     },
     "e859b31f163742cca5fc8850a077a226": {
      "model_module": "@jupyter-widgets/controls",
      "model_module_version": "1.5.0",
      "model_name": "HTMLModel",
      "state": {
       "layout": "IPY_MODEL_101585e0bde74b4ebd76c0b6370e2989",
       "style": "IPY_MODEL_2b0e02cde19a40b99cc693effac3b05f",
       "value": " 11/11 [02:35&lt;00:00, 14.11s/it]"
      }
     },
     "e866d33b5fd04550ab2b85a9cc10d487": {
      "model_module": "@jupyter-widgets/controls",
      "model_module_version": "1.5.0",
      "model_name": "DescriptionStyleModel",
      "state": {
       "description_width": ""
      }
     },
     "e87b076bb7774dba8ddcc4d6b668ccf2": {
      "model_module": "@jupyter-widgets/controls",
      "model_module_version": "1.5.0",
      "model_name": "ProgressStyleModel",
      "state": {
       "description_width": "initial"
      }
     },
     "ea15301eed12428b80957e306af13e03": {
      "model_module": "@jupyter-widgets/controls",
      "model_module_version": "1.5.0",
      "model_name": "ProgressStyleModel",
      "state": {
       "description_width": "initial"
      }
     },
     "ea6e884634cc4651bae911f03827cd12": {
      "model_module": "@jupyter-widgets/controls",
      "model_module_version": "1.5.0",
      "model_name": "HTMLModel",
      "state": {
       "layout": "IPY_MODEL_b647b9f5bc47471ea2180071edc1c46e",
       "style": "IPY_MODEL_b3a55b028310480585d3f3f55808e680",
       "value": " 11/11 [00:47&lt;00:00,  4.32s/it]"
      }
     },
     "ea9e4394766b42989e2582f7b2a7fd1e": {
      "model_module": "@jupyter-widgets/base",
      "model_module_version": "1.2.0",
      "model_name": "LayoutModel",
      "state": {}
     },
     "eaf5f10ec5854024836f164459b9c3e1": {
      "model_module": "@jupyter-widgets/controls",
      "model_module_version": "1.5.0",
      "model_name": "ProgressStyleModel",
      "state": {
       "description_width": "initial"
      }
     },
     "eb5c4a3c41154eba8e06e045826a5395": {
      "model_module": "@jupyter-widgets/controls",
      "model_module_version": "1.5.0",
      "model_name": "HBoxModel",
      "state": {
       "children": [
        "IPY_MODEL_e4ee1c015b174357adb0d6920e0e3d68",
        "IPY_MODEL_a53e4dd5a2da4083abcffeda03b67197"
       ],
       "layout": "IPY_MODEL_b793d87469dc4ac9aa371a4c07a074c0"
      }
     },
     "ee9cba60e13e434da5167e2a9bbaf42e": {
      "model_module": "@jupyter-widgets/base",
      "model_module_version": "1.2.0",
      "model_name": "LayoutModel",
      "state": {}
     },
     "eeae11033f0e4c3e94383767b7e03938": {
      "model_module": "@jupyter-widgets/controls",
      "model_module_version": "1.5.0",
      "model_name": "HTMLModel",
      "state": {
       "layout": "IPY_MODEL_04f6999ae3e242e9b430f7c8fa5e5c59",
       "style": "IPY_MODEL_60a90b6e34d04a2383c34f910e9a981c",
       "value": " 0/11 [00:30&lt;?, ?it/s]"
      }
     },
     "ef394cf751294fd7acdf6ac109540e79": {
      "model_module": "@jupyter-widgets/controls",
      "model_module_version": "1.5.0",
      "model_name": "DescriptionStyleModel",
      "state": {
       "description_width": ""
      }
     },
     "ef6d215483804b0183143150936983a6": {
      "model_module": "@jupyter-widgets/controls",
      "model_module_version": "1.5.0",
      "model_name": "HTMLModel",
      "state": {
       "layout": "IPY_MODEL_82cdcc79d4c24555b57de3e389e8f3bf",
       "style": "IPY_MODEL_da16a3a737404b30a4a64dfe3e39afdd",
       "value": " 11/11 [00:20&lt;00:00,  1.83s/it]"
      }
     },
     "efe1209b49834017ae178f2a1e7f9785": {
      "model_module": "@jupyter-widgets/controls",
      "model_module_version": "1.5.0",
      "model_name": "HBoxModel",
      "state": {
       "children": [
        "IPY_MODEL_d7f7a0630d774430be29fb9ca5438f46",
        "IPY_MODEL_6332e26d654143939cb555978e6170e0"
       ],
       "layout": "IPY_MODEL_4cb2cbd3ae304a0298ffb167a763178c"
      }
     },
     "effa80f369af432693bb133a79923060": {
      "model_module": "@jupyter-widgets/controls",
      "model_module_version": "1.5.0",
      "model_name": "FloatProgressModel",
      "state": {
       "bar_style": "danger",
       "description": " 33%",
       "layout": "IPY_MODEL_b851ac34cc79474c9bb4f6d584106d7f",
       "max": 6,
       "style": "IPY_MODEL_ac06e294b28046d0b4b2118f5a67e199",
       "value": 2
      }
     },
     "f17663b3871f480189abe68cbd10e05e": {
      "model_module": "@jupyter-widgets/base",
      "model_module_version": "1.2.0",
      "model_name": "LayoutModel",
      "state": {}
     },
     "f2152d1f92154fc9bc51aaaf08c53470": {
      "model_module": "@jupyter-widgets/controls",
      "model_module_version": "1.5.0",
      "model_name": "DescriptionStyleModel",
      "state": {
       "description_width": ""
      }
     },
     "f26ab359ed694a42be61ca9964cec3aa": {
      "model_module": "@jupyter-widgets/controls",
      "model_module_version": "1.5.0",
      "model_name": "HTMLModel",
      "state": {
       "layout": "IPY_MODEL_806d8b1452cd4eb0a8e2923b94a1b0f0",
       "style": "IPY_MODEL_310bafc76dbc4cf0a6378dfc6edecb43",
       "value": " 6/6 [01:01&lt;00:00, 10.30s/it]"
      }
     },
     "f3205114ab0d4e83ab7917c1f3a21db8": {
      "model_module": "@jupyter-widgets/controls",
      "model_module_version": "1.5.0",
      "model_name": "FloatProgressModel",
      "state": {
       "bar_style": "success",
       "description": "100%",
       "layout": "IPY_MODEL_a738bc6a3bae439db4120b627562ebd2",
       "max": 11,
       "style": "IPY_MODEL_208c13b18482409ea89f065f28b3b8ea",
       "value": 11
      }
     },
     "f3b26b3cc4ac4d4fb3cc890663050ec3": {
      "model_module": "@jupyter-widgets/controls",
      "model_module_version": "1.5.0",
      "model_name": "DescriptionStyleModel",
      "state": {
       "description_width": ""
      }
     },
     "f4076d064e01412db0a35fcca1da5e16": {
      "model_module": "@jupyter-widgets/base",
      "model_module_version": "1.2.0",
      "model_name": "LayoutModel",
      "state": {}
     },
     "f4f48e54e5034aa887a78488cd590b6d": {
      "model_module": "@jupyter-widgets/controls",
      "model_module_version": "1.5.0",
      "model_name": "ProgressStyleModel",
      "state": {
       "description_width": "initial"
      }
     },
     "f5b9f28fc0ff4fdf883bd08b766d06bb": {
      "model_module": "@jupyter-widgets/controls",
      "model_module_version": "1.5.0",
      "model_name": "FloatProgressModel",
      "state": {
       "bar_style": "success",
       "description": "100%",
       "layout": "IPY_MODEL_61573fbc748a47d29b6bcce3e5e08078",
       "max": 11,
       "style": "IPY_MODEL_ad9d07dcdd1f4e64b1de7c1e4a9b9cae",
       "value": 11
      }
     },
     "f6f50a0a0be945148d9eafd058034572": {
      "model_module": "@jupyter-widgets/controls",
      "model_module_version": "1.5.0",
      "model_name": "ProgressStyleModel",
      "state": {
       "description_width": "initial"
      }
     },
     "f7f96d44bfec42e2940009f906e959c3": {
      "model_module": "@jupyter-widgets/base",
      "model_module_version": "1.2.0",
      "model_name": "LayoutModel",
      "state": {}
     },
     "f82e7b2f88a24cc79a48f16da4a11190": {
      "model_module": "@jupyter-widgets/controls",
      "model_module_version": "1.5.0",
      "model_name": "DescriptionStyleModel",
      "state": {
       "description_width": ""
      }
     },
     "f86078e94c7448758aed4f46e59e8f99": {
      "model_module": "@jupyter-widgets/controls",
      "model_module_version": "1.5.0",
      "model_name": "ProgressStyleModel",
      "state": {
       "description_width": "initial"
      }
     },
     "f89376da75e74933bfdb6ace2bb5bd7c": {
      "model_module": "@jupyter-widgets/controls",
      "model_module_version": "1.5.0",
      "model_name": "HBoxModel",
      "state": {
       "children": [
        "IPY_MODEL_826ba90d38cb46709d666c4e1c1491f3",
        "IPY_MODEL_c16aa199fc7c43e7949e968f6b4c13f6"
       ],
       "layout": "IPY_MODEL_bf1faa52fb3d46039ba8210fddd3ead1"
      }
     },
     "f9970d8fd94f4700b6a0bb2b3110814a": {
      "model_module": "@jupyter-widgets/base",
      "model_module_version": "1.2.0",
      "model_name": "LayoutModel",
      "state": {}
     },
     "f9f2c2d75b094629a4d277d6fad15e46": {
      "model_module": "@jupyter-widgets/base",
      "model_module_version": "1.2.0",
      "model_name": "LayoutModel",
      "state": {}
     },
     "fa79a99be9264861add9ef8d0daf9129": {
      "model_module": "@jupyter-widgets/controls",
      "model_module_version": "1.5.0",
      "model_name": "HTMLModel",
      "state": {
       "layout": "IPY_MODEL_68b7bfea53e149b0849e99716f165948",
       "style": "IPY_MODEL_f82e7b2f88a24cc79a48f16da4a11190",
       "value": " 1/6 [00:40&lt;03:21, 40.37s/it]"
      }
     },
     "fbd889704a2945a2a701ba481f38a1b2": {
      "model_module": "@jupyter-widgets/base",
      "model_module_version": "1.2.0",
      "model_name": "LayoutModel",
      "state": {}
     },
     "fc412f774cca41f8a1ed2c0b2a7cee10": {
      "model_module": "@jupyter-widgets/controls",
      "model_module_version": "1.5.0",
      "model_name": "ProgressStyleModel",
      "state": {
       "description_width": "initial"
      }
     },
     "fc506bb1cede4143beebe074cbf594b4": {
      "model_module": "@jupyter-widgets/base",
      "model_module_version": "1.2.0",
      "model_name": "LayoutModel",
      "state": {}
     },
     "fd39963f8dd1431e8fdacc20f6963173": {
      "model_module": "@jupyter-widgets/base",
      "model_module_version": "1.2.0",
      "model_name": "LayoutModel",
      "state": {}
     },
     "fd8eb9dd56fd4d9280cd340d264fa1b6": {
      "model_module": "@jupyter-widgets/base",
      "model_module_version": "1.2.0",
      "model_name": "LayoutModel",
      "state": {}
     },
     "fd99d49aad2549c29206a477ecb17ff9": {
      "model_module": "@jupyter-widgets/base",
      "model_module_version": "1.2.0",
      "model_name": "LayoutModel",
      "state": {}
     },
     "fdc2781fc0c346d7b0bd829853720e44": {
      "model_module": "@jupyter-widgets/controls",
      "model_module_version": "1.5.0",
      "model_name": "FloatProgressModel",
      "state": {
       "bar_style": "danger",
       "description": "  0%",
       "layout": "IPY_MODEL_fd99d49aad2549c29206a477ecb17ff9",
       "max": 6,
       "style": "IPY_MODEL_23183e492fd2440989a2623a5dcd43cd"
      }
     },
     "fe97fbbe4a6845cdb3f16e4f3f4aa6f8": {
      "model_module": "@jupyter-widgets/controls",
      "model_module_version": "1.5.0",
      "model_name": "FloatProgressModel",
      "state": {
       "bar_style": "success",
       "description": "100%",
       "layout": "IPY_MODEL_955947f8e8ee4841b649d113132b35a7",
       "max": 11,
       "style": "IPY_MODEL_3b37e0018dbe450f8382395595bce658",
       "value": 11
      }
     },
     "feea9290fb8b4a9d98e389f4073779ed": {
      "model_module": "@jupyter-widgets/base",
      "model_module_version": "1.2.0",
      "model_name": "LayoutModel",
      "state": {}
     },
     "ff048145dbcd4b949f8fc3b006db2bf7": {
      "model_module": "@jupyter-widgets/controls",
      "model_module_version": "1.5.0",
      "model_name": "DescriptionStyleModel",
      "state": {
       "description_width": ""
      }
     },
     "ff31d49511fe4a07a0331c350944c922": {
      "model_module": "@jupyter-widgets/base",
      "model_module_version": "1.2.0",
      "model_name": "LayoutModel",
      "state": {}
     }
    },
    "version_major": 2,
    "version_minor": 0
   }
  }
 },
 "nbformat": 4,
 "nbformat_minor": 4
}
